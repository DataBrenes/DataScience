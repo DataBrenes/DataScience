{
 "cells": [
  {
   "cell_type": "markdown",
   "metadata": {},
   "source": [
    "# Epidemics on networks: the SIS model\n",
    "The goal of this simulation is to implement a working SIS (Susceptible-Infected-Susceptible) model and investigate the different properties of random and scale-free networks under the model. \n",
    "\n",
    "In the SIS model we expect the percentage of infected nodes in the network to eventually reach an equilibrium between the countervailing forces of new infections (a rate expressed as parameter _beta_) and recovery to susceptibility (a rate expressed as parameter _mu_).\n",
    "\n",
    "## Methods\n",
    "\n",
    "Since the characteristics of scale-free and random networks diverge as size increases, I experimented with several optimizations to facilitate creating large graphs. After a several minute warm-up, the code presented here is able to create graphs of 25,000 nodes in just a few seconds. This would represent the population of a small city. For the simulation I created 5 random (Erdos-Renyi) and 5 scale-free graphs.\n",
    "\n",
    "Initial simulations of several scenarios over a timespan of 50 units rarely reached equilibrium. Therefore I heavily optimized the SIS simulation code, using a numpy array to hold the state for all nodes over the course of the simulation. These optimizations enabled simulations that could cover much longer time spans and thus reach equilibrium. I have provided comments in the code indicating the specific optimizations for creating graphs and conducting simulations.\n",
    "\n",
    "The seed of infected population was set at 0.1% (25 individuals in a population of 25,000)--large enough to seed the epidemic process that would naturally occur under the parameters, but small enough to yield valid measurements of time to equilibrium.\n",
    "\n",
    "I serialized the experimental output by copying the console/stdout and pasting into CSV files.\n",
    "\n",
    "## Results and Discussion\n",
    "\n",
    "### Epidemic Theshold\n",
    "\n",
    "The epidemic threshold is the ratio of beta (infection rate) to mu (recovery to susceptible state) at which the contagion persists in a population. The ratio is expressed as parameter _lambda_. According to theory [Barabasi, Network Science, p. 394], _lambda_ has the following values as network size goes to infinity:\n",
    "+ For random networks: `1 / (<k> + 1)`, where `<k>` represents average degree\n",
    "+ For scale-free networks: `0`\n",
    "\n",
    "The stunning prediction of inevitable contagion persistence in a scale-free network can be attributed to the presence of large hubs. Once a large hub is infected, it enters a perpetual cycle of infectig numerous neighbors, then being reinfected by those neighbors once it recovers to the susceptible state. In addition, the friendship paradox guarantees that hubs will be quickly reached from the seed population of infected nodes. \n",
    "\n",
    "See the next-to-last cell in this notebook for a visualization of the relationship between lambda and the epidemic threshold in these simulations. \n",
    "\n",
    "#### Random Network Epidemic Threshold\n",
    "Since <k> = 4.38 for the random graphs in this simulation, the theoretical epidemic threshold is 1 / (4.38 + 1) = 0.186. The actual epidemic threshold in these simulations was 0.21. The slight difference from theory is likely due to the fact that the network population is only 25,000 rather than infinite.\n",
    "\n",
    "#### Scale-Free Network Epidemic Threshold\n",
    "The epidemic threshold for scale-free networks in these simulations was 0.018--not quite zero, but remarkably lower than the threshold for random networks. Given sufficient computing resources, simulations over larger populations would no doubt move the threshold into the territory of the infinitesimal.\n",
    "\n",
    "### Time to Equilibrium\n",
    "The visualization of time to equilibrium in the final cell of this notebook compares the average results for scale-free vs. random networks over several scenarios. Note that \"equilibrium\" is defined as the state in which the endemic contagion persists in a roughly stable portion of the population over time. Thus the comparison excludes any scenario in which one or both of the network types becomes contagion-free. For purposes of these simulations, the equilibrium infected portion of the population is deemed to be the average value of the final 25 observations in the time series.\n",
    "\n",
    "Time to equilibrium is roughly four times larger for random networks than for scale-free networks. Equilibrium is reached much more quickly in a scale-free network because the hubs accelerate progress toward the equilibrium condition.\n",
    "\n",
    "\n"
   ]
  },
  {
   "cell_type": "code",
   "execution_count": 34,
   "metadata": {},
   "outputs": [],
   "source": [
    "import networkx as nx\n",
    "import numpy as np\n",
    "from collections import defaultdict\n",
    "\n",
    "%matplotlib inline\n",
    "import matplotlib.pyplot as plt"
   ]
  },
  {
   "cell_type": "code",
   "execution_count": null,
   "metadata": {
    "collapsed": true
   },
   "outputs": [],
   "source": [
    "def create_rn_graph(num_nodes, density = None):\n",
    "    '''\n",
    "    adapted from code supplied in course I-590 Network Science, Spring 2018 (Indiana U)\n",
    "    '''\n",
    "    if not density:\n",
    "        density = 4 / num_nodes\n",
    "    rnd_graph = nx.erdos_renyi_graph(num_nodes, density)\n",
    "    # We want to make sure that the graph is connected, so we will only take the largest\n",
    "    # connected component, as disconnected parts can't be infected or transmit infection:\n",
    "    return max(nx.connected_component_subgraphs(rnd_graph), key=len)"
   ]
  },
  {
   "cell_type": "code",
   "execution_count": null,
   "metadata": {
    "collapsed": true
   },
   "outputs": [],
   "source": [
    "degree_dict = {}\n",
    "def create_undirected_sf_graph(n):\n",
    "    '''\n",
    "    Returns a graph with n vertices having a power-law degree distribution with gamma ~ 2.5\n",
    "    '''\n",
    "    # networkx.scale_free_graph() is very time-consuming for large graphs; it requires several minutes for a\n",
    "    # graph with 25,000 nodes. On the other hand, configuration_model() runs very quickly once it has a degree distribution.\n",
    "    # So we use scale_free_graph to initialize the degree distribution, then we use configuration_model() on all subsequent\n",
    "    # graphs with the same number of nodes.\n",
    "    if not n in degree_dict:\n",
    "        sf_dir = nx.scale_free_graph(n, alpha=0.35, beta=0.60, gamma=0.05, delta_in=0.4, delta_out=0.4)\n",
    "        sf_undir = sf_dir.to_undirected()\n",
    "        degrees = list(dict(sf_undir.degree()).values())\n",
    "        degree_dict[n] = degrees\n",
    "    gr = nx.configuration_model(degree_dict[n])\n",
    "    gr = nx.Graph(gr) # removes parallel edges\n",
    "    gr.remove_edges_from(gr.selfloop_edges()) # removes self-loops\n",
    "    return gr\n",
    "   "
   ]
  },
  {
   "cell_type": "code",
   "execution_count": null,
   "metadata": {
    "collapsed": true
   },
   "outputs": [],
   "source": [
    "def SIS(graph, tmax, beta, initial_inf, mu):\n",
    "    '''\n",
    "    graph - networkx undirected graph\n",
    "    tmax - number of time cycles\n",
    "    beta - transmission probability from susceptible (S) to infected (I)\n",
    "    initial_inf - initial fraction of infected nodes\n",
    "    mu - probability of recovery from infected (I) to susceptible (S)\n",
    "    \n",
    "    Returns - a list of tmax floats whose values are the infected percentage at each time t\n",
    "    '''\n",
    "    neighbors = defaultdict(list) # so that nodes with no neighbors will have an empty list by default\n",
    "    nodes = graph.nodes()\n",
    "    for node in nodes:\n",
    "        neighbors[node] = list(graph.neighbors(node))\n",
    "    num_nodes = len(nodes)\n",
    "    \n",
    "    # In a random graph, some of the nodes may have been unconnected and therefore removed\n",
    "    # We will have to create empty rows to represent any removed nodes\n",
    "    max_nodeid = max(nodes)\n",
    "    \n",
    "    # create state array with dimensions nodes x tmax+1; value of 0 = susceptible, 1 = infected\n",
    "    disease = np.zeros((max_nodeid + 1, tmax + 1), dtype=np.uint8) \n",
    "    \n",
    "    # initialize the array of infected at time 0\n",
    "    infected_0 = np.random.choice(nodes, size=int(num_nodes * initial_inf), replace=False)\n",
    "    disease[infected_0,0] = 1\n",
    "    \n",
    "    # set nodes to 0 or 1 at each time t based on params + probabilities. We are using a synchronized time-series model\n",
    "    # with simultaneous updates from time t - 1 to time t\n",
    "    for t in range(1, tmax+1):\n",
    "        infected = disease[:, t-1].nonzero()[0] # array of indices of infected at time t-1\n",
    "        susceptible = np.where(disease[:, t-1] == 0)[0] # array of indices of susceptible at time t-1\n",
    "        for s in susceptible:\n",
    "            num_infected_neighbors = np.sum(disease[neighbors[s], t-1])\n",
    "            if np.random.random() < (1 - (1 - beta)**num_infected_neighbors):\n",
    "                disease[s,t] = 1\n",
    "        for i in infected:\n",
    "            if np.random.random() > mu:\n",
    "                # did not recover\n",
    "                disease[i, t] = 1\n",
    "    # multiply infected %-age by (maxnodeid + 1) / num_nodes to compensate for empty rows\n",
    "    return np.mean(disease, axis = 0) * (max_nodeid + 1) / num_nodes"
   ]
  },
  {
   "cell_type": "code",
   "execution_count": null,
   "metadata": {
    "collapsed": true
   },
   "outputs": [],
   "source": [
    "init_infected = .001   # 1/1000 of population infected at t0 (25 out of 25,000)\n",
    "tmax = 250             # 250 time units to make sure the simulation reaches equilibrium\n",
    "def calc_disease_props(infected_percent):\n",
    "    '''\n",
    "    Returns a tuple (equilibrium, t at which equilibrium established) \n",
    "    '''\n",
    "    equilibrium = np.mean(infected_percent[-25:])\n",
    "    if equilibrium < init_infected:\n",
    "        t_equilibrium = 0\n",
    "    else:\n",
    "        t_equilibrium = np.nonzero(infected_percent > equilibrium)[0][0]\n",
    "    return equilibrium, t_equilibrium"
   ]
  },
  {
   "cell_type": "code",
   "execution_count": null,
   "metadata": {},
   "outputs": [],
   "source": [
    "nodes = 25000\n",
    "density = 0.000175 # derived empirically from properties of scale-free graphs with 25,000 nodes\n",
    "rngraphs = []\n",
    "sfgraphs = []\n",
    "for _ in range(5):\n",
    "    rngraphs.append(create_rn_graph(nodes, density))\n",
    "    sfgraphs.append(create_undirected_sf_graph(nodes))\n",
    "print(\"graphs created\")\n",
    "\n",
    "betas = [.05,.10]\n",
    "mus = [x/100 for x in range(10, 82, 2)] # .10 to .80, by .02\n",
    "rn_results = []\n",
    "sf_results = []\n",
    "print(\"graph_type,beta,mu,equilibrium,t_equilibrium\")\n",
    "for beta in betas:\n",
    "    for mu in mus:\n",
    "        eq, t_eq = np.mean([calc_disease_props(SIS(g, tmax, beta, init_infected, mu)) for g in rngraphs], axis = 0)\n",
    "        result = [\"er\",beta,mu,eq,t_eq]\n",
    "        print(\",\".join(str(e) for e in result))\n",
    "        rn_results.append(result)\n",
    "        eq, t_eq = np.mean([calc_disease_props(SIS(g, tmax, beta, init_infected, mu)) for g in sfgraphs], axis = 0)\n",
    "        result = [\"sf\",beta,mu,eq,t_eq]\n",
    "        print(\",\".join(str(e) for e in result))\n",
    "        sf_results.append(result)\n",
    "np.save(\"rn_results.npy\", np.array(rn_results))\n",
    "np.save(\"sf_results.npy\", np.array(sf_results))\n"
   ]
  },
  {
   "cell_type": "code",
   "execution_count": null,
   "metadata": {},
   "outputs": [],
   "source": [
    "beta = .05\n",
    "mu = .23\n",
    "eq, t_eq = np.mean([calc_disease_props(SIS(g, tmax, beta, init_infected, mu)) for g in rngraphs], axis = 0)\n",
    "result = [\"er\",beta,mu,eq,t_eq]\n",
    "print(\",\".join(str(e) for e in result))\n",
    "rn_results.append(result)\n",
    "eq, t_eq = np.mean([calc_disease_props(SIS(g, tmax, beta, init_infected, mu)) for g in sfgraphs], axis = 0)\n",
    "result = [\"sf\",beta,mu,eq,t_eq]\n",
    "print(\",\".join(str(e) for e in result))\n",
    "sf_results.append(result)\n"
   ]
  },
  {
   "cell_type": "code",
   "execution_count": null,
   "metadata": {
    "scrolled": true
   },
   "outputs": [],
   "source": [
    "betas = [x/1000 for x in range(21, 0, -1)]\n",
    "mu = 0.5\n",
    "for beta in betas:\n",
    "    eq, t_eq = np.mean([calc_disease_props(SIS(g, tmax, beta, init_infected, mu)) for g in sfgraphs], axis = 0)\n",
    "    result = [\"sf\",beta,mu,eq,t_eq]\n",
    "    print(\",\".join(str(e) for e in result))\n",
    "    sf_results.append(result)\n",
    "    "
   ]
  },
  {
   "cell_type": "code",
   "execution_count": null,
   "metadata": {},
   "outputs": [],
   "source": [
    "beta = .02\n",
    "mu = .5\n",
    "eq, t_eq = np.mean([calc_disease_props(SIS(g, tmax, beta, init_infected, mu)) for g in sfgraphs], axis = 0)\n",
    "result = [\"sf\",beta,mu,eq,t_eq]\n",
    "print(\",\".join(str(e) for e in result))\n",
    "\n"
   ]
  },
  {
   "cell_type": "code",
   "execution_count": 37,
   "metadata": {},
   "outputs": [
    {
     "data": {
      "text/plain": [
       "<matplotlib.text.Text at 0x266388eab00>"
      ]
     },
     "execution_count": 37,
     "metadata": {},
     "output_type": "execute_result"
    },
    {
     "data": {
      "image/png": "[encoded data removed]",
      "text/plain": [
       "<matplotlib.figure.Figure at 0x26636638cc0>"
      ]
     },
     "metadata": {},
     "output_type": "display_data"
    }
   ],
   "source": [
    "# load the saved results for equilibrium vs. lambda\n",
    "equilibrium_col = 3\n",
    "equilibrium_t_col = 4\n",
    "lambda_col = 5\n",
    "erdosrenyi_file = \"er_results.csv\"\n",
    "er_results = np.loadtxt(erdosrenyi_file, delimiter = ',',skiprows = 1, usecols = (equilibrium_col, lambda_col, equilibrium_t_col))\n",
    "scalefree_file = \"sf_results.csv\"\n",
    "sf_results = np.loadtxt(scalefree_file, delimiter = ',',skiprows = 1, usecols = (equilibrium_col, lambda_col, equilibrium_t_col))\n",
    "\n",
    "# plot equilibrium against lambda\n",
    "plt.ylabel(\"equilibrium\")\n",
    "plt.xlabel(\"lambda\")\n",
    "plt.plot(er_results[:,1], er_results[:,0], label = 'er')\n",
    "plt.plot(sf_results[:,1], sf_results[:,0], label = 'sf')\n",
    "plt.title(\"Equilibrium Infected Percentage for Scale-Free (Orange) and Random (Blue) Networks\")"
   ]
  },
  {
   "cell_type": "code",
   "execution_count": 33,
   "metadata": {},
   "outputs": [
    {
     "data": {
      "text/plain": [
       "<matplotlib.text.Text at 0x266389343c8>"
      ]
     },
     "execution_count": 33,
     "metadata": {},
     "output_type": "execute_result"
    },
    {
     "data": {
      "image/png": "[encoded data removed]",
      "text/plain": [
       "<matplotlib.figure.Figure at 0x26638b61ac8>"
      ]
     },
     "metadata": {},
     "output_type": "display_data"
    }
   ],
   "source": [
    "# plot bar graph for time to equilibrium\n",
    "\n",
    "# observations where erdos-renyi network had reached 0.0 infection are not meaningful. \n",
    "# Exclude them from the calculations of equilibrium_t \n",
    "er_meaningful_lambda = er_results[er_results[:,0] > 0,1]\n",
    "er_equilibrium_t = np.mean(er_results[er_results[:,0] > 0, 2])\n",
    "sf_equilibrium_t = np.mean(sf_results[sf_results[:,1] >= min(er_meaningful_lambda), 2])\n",
    "\n",
    "# build the plot\n",
    "fig, ax = plt.subplots()\n",
    "ind = np.arange(1, 3)\n",
    "sf, er = plt.bar(ind, (sf_equilibrium_t, er_equilibrium_t))\n",
    "sf.set_facecolor('tab:orange')\n",
    "er.set_facecolor('tab:blue')\n",
    "ax.set_xticks(ind)\n",
    "ax.set_xticklabels(['scale-free', 'erdos-renyi'])\n",
    "ax.set_ylabel('Time to Equilibrium')\n",
    "ax.set_title('Average Time to Equilibrium')\n"
   ]
  }
 ],
 "metadata": {
  "anaconda-cloud": {},
  "kernelspec": {
   "display_name": "Python 3",
   "language": "python",
   "name": "python3"
  },
  "language_info": {
   "codemirror_mode": {
    "name": "ipython",
    "version": 3
   },
   "file_extension": ".py",
   "mimetype": "text/x-python",
   "name": "python",
   "nbconvert_exporter": "python",
   "pygments_lexer": "ipython3",
   "version": "3.6.2"
  }
 },
 "nbformat": 4,
 "nbformat_minor": 1
}
