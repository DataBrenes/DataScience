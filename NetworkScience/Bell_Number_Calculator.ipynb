{
 "cells": [
  {
   "cell_type": "markdown",
   "metadata": {},
   "source": [
    "# Bell Number Calculator\n",
    "The Bell Number provides the number of combinations of non-empty subsets that can be created from a set of N elements. For very large N, the Bell Number can be accurately approximated by Dobinski's formula ([credit: Wikipedia](https://en.wikipedia.org/wiki/Bell_number)):\n",
    "\n",
    "![Dobinski's Formula](https://wikimedia.org/api/rest_v1/media/math/render/svg/3510fe21654a45f1fa5ddef0b1ee09f5a02c60df \"Dobinski's Formula\")\n",
    "For smaller N, we can calculate the Bell Number by using Peirce's Triangle:\n",
    "```\n",
    "1\n",
    "1   2\n",
    "2   3  5\n",
    "5   7 10 15\n",
    "15 20 27 37 52\n",
    "52 ....\n",
    "```\n",
    "The method is simple. Set the first row to 1. In subsequent rows, follow these steps:\n",
    "1. Set the leftmost element equal to the rightmost from the previous row.\n",
    "2. Moving rightward, each element is the sum of the element to its left and the element up one row and to the left.\n",
    "The rightmost element of each row is the Bell Number for the row N. For example, the Bell Number for N = 5 is 52, which means that given a set of 5 numbers, there are 52 different ways to partition them into subsets.\n",
    "\n",
    "It's easy to use Peirce's Triangle to calculate the Bell Number series. First, write a recursive function:"
   ]
  },
  {
   "cell_type": "code",
   "execution_count": 1,
   "metadata": {},
   "outputs": [
    {
     "name": "stdout",
     "output_type": "stream",
     "text": [
      "1\n",
      "1 2\n",
      "2 3 5\n",
      "5 7 10 15\n"
     ]
    },
    {
     "data": {
      "text/plain": [
       "[5, 7, 10, 15]"
      ]
     },
     "execution_count": 1,
     "metadata": {},
     "output_type": "execute_result"
    }
   ],
   "source": [
    "def peirce_row(n, print_row = False):\n",
    "    '''\n",
    "    Parameters:\n",
    "    n: (int) the number of elements in a set\n",
    "    print_row: (bool) flag that determines whether to print the row \n",
    "    \n",
    "    Returns:\n",
    "    list containing the n-th row of the Peirce Triangle. The last element in the list is the Bell Number for n\n",
    "    '''\n",
    "    if n < 1:\n",
    "        raise Exception('Illegal argument')\n",
    "    elif n == 1:\n",
    "        row = [1]\n",
    "    else:\n",
    "        row = []\n",
    "        previous = peirce_row(n - 1, print_row)\n",
    "        row.append(previous[n - 2])\n",
    "        for i in range(1, n):\n",
    "            row.append(row[i - 1] + previous[i - 1])\n",
    "    if print_row:\n",
    "        print(' '.join(map(str,row)))\n",
    "    return row\n",
    "\n",
    "peirce_row(4, print_row = True)"
   ]
  },
  {
   "cell_type": "markdown",
   "metadata": {},
   "source": [
    "Now let's find out what the Bell Number is for a set with 20 elements. How big could that be?"
   ]
  },
  {
   "cell_type": "code",
   "execution_count": 2,
   "metadata": {},
   "outputs": [
    {
     "name": "stdout",
     "output_type": "stream",
     "text": [
      "A set with 20 elements can be partitioned in 51724158235372 different ways\n"
     ]
    }
   ],
   "source": [
    "n = 20\n",
    "bell_num = peirce_row(n)[n - 1]\n",
    "print(\"A set with\", n, \"elements can be partitioned in\", bell_num, \"different ways\")"
   ]
  },
  {
   "cell_type": "markdown",
   "metadata": {},
   "source": [
    "Whoa! Over 51 trillion ways! This has important implications for finding communities in a network. A simple algorithm would be to check the average density of the subsets for every possible way to group the nodes into subsets, then select the configuration that maximizes the average density. However, this method becomes intractable with even small sizes of n. I.e., it is [NP-hard](https://en.wikipedia.org/wiki/NP-hardness). Thus we will have to find another way to search the solution space for communities within a network. And that, dear readers, will be a future adventure."
   ]
  }
 ],
 "metadata": {
  "kernelspec": {
   "display_name": "Python 3",
   "language": "python",
   "name": "python3"
  },
  "language_info": {
   "codemirror_mode": {
    "name": "ipython",
    "version": 3
   },
   "file_extension": ".py",
   "mimetype": "text/x-python",
   "name": "python",
   "nbconvert_exporter": "python",
   "pygments_lexer": "ipython3",
   "version": "3.6.2"
  }
 },
 "nbformat": 4,
 "nbformat_minor": 2
}
