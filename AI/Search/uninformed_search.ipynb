{
 "cells": [
  {
   "cell_type": "markdown",
   "metadata": {},
   "source": [
    "## Uninformed Search\n",
    "Uninformed search algorithms such as breadth-first search (BFS) and depth-first search (DFS) do not attempt to apply intelligence to the  direction of the search. For this reason they are often called \"brute-force\" search methods. While both algorithms are uninformed, their differing implementations make them suitable for different problems:\n",
    "+ **Breadth-first search**: Given a search position at a particular state, BFS examines all of that state's successors before searching any farther. Think of it as a layer-by-layer approach: BFS searches all the successors, then all the successors of the successors, then the successors of the successors of the successors, etc., until it finds a goal state. The algorithm is both complete (it is guaranteed to find a goal node in a finite state space) and optimal (it guarantees that no goal state in the state space will be closer to the initial state than the goal state that it finds).\n",
    "+ **Depth-first search**: Given a search position at a particular node, DFS examines just one successor while storing the others in a stack; then examines one successor of the successor while storing the remainder of the successor's successors in the stack; and so forth. Essentially, it probes a potentially complete path until it either finds a goal state or deems it a blind alley; then it backs up a step and continues, performing the same steps. Like BFS, the algorithm runs until it finds a goal state and is complete. However, DFS is not optimal; it may bypass an easily reachable goal state and find a distant one instead."
   ]
  },
  {
   "cell_type": "markdown",
   "metadata": {},
   "source": [
    "### Using Uninformed Search on the N-Rooks Puzzle \n",
    "In the N-Rooks puzzle you must place N rooks on a NxN chess board in such a way that no rooks attack each other. The basic elements of the search can be defined as follows:\n",
    "+ State space: the set of all possible configurations of 0 through N rooks on a NxN board. The size of this space increases exponentially with N, as it is equal to (N<sup>2</sup>)(N<sup>2</sup> - 1)(N<sup>2</sup> - 2) ... (N<sup>2</sup> - N).\n",
    "+ Initial state: an empty board\n",
    "+ Goal state: a NxN board with exactly one rook on each row and exactly one rook on each column. The problem has many goal states.\n",
    "+ Successor function: the set of NxN boards with one more rook on the board than the predecessor state. \n",
    "\n",
    "It seems likely that DFS will be more suitable than BFS to solve the N-Rooks puzzle. DFS can start exploring possible solutions with N rooks almost immediately, after traversing just N-1 states. Meanwhile, BFS must fully investigate N<sup>N-1</sup> states before it can reach a state that might be a goal state.\n",
    "\n",
    "Let's take a look at the code supplied by Professor David Crandall and instructor Zehua Zhang."
   ]
  },
  {
   "cell_type": "code",
   "execution_count": 2,
   "metadata": {
    "collapsed": true
   },
   "outputs": [],
   "source": [
    "import sys\n",
    "from time import clock\n",
    "from collections import deque\n",
    "\n",
    "# Count # of pieces in given row\n",
    "def count_on_row(board, row):\n",
    "    return sum( board[row] ) \n",
    "\n",
    "# Count # of pieces in given column\n",
    "def count_on_col(board, col):\n",
    "    return sum( [ row[col] for row in board ] ) \n",
    "\n",
    "# Count total # of pieces on board\n",
    "def count_pieces(board):\n",
    "    return sum([ sum(row) for row in board ] )\n",
    "\n",
    "# Return a string with the board rendered in a human-friendly format\n",
    "def printable_board(board):\n",
    "    return \"\\n\".join([ \" \".join([ \"R\" if col else \"_\" for col in row ]) for row in board])\n",
    "\n",
    "# Add a piece to the board at the given position, and return a new board (doesn't change original)\n",
    "def add_piece(board, row, col):\n",
    "    return board[0:row] + [board[row][0:col] + [1,] + board[row][col+1:]] + board[row+1:]\n"
   ]
  },
  {
   "cell_type": "markdown",
   "metadata": {},
   "source": [
    "#### Data Structures\n",
    "Note that in the instructors' code, the state is held in a list of lists -- a very inefficient data structure. In my next search algorithm notebook, I will show how to use numpy arrays to good effect in a greedy best-first search.\n",
    "\n",
    "In the `solve()` function (below), I use a `collections.deque` as a container for the fringe. It can act as either a LIFO stack or a FIFO queue depending on the function used to remove an element.\n",
    "\n",
    "#### Optimizing the Successor Function\n",
    "My `successors2()` function contains the following optimizations:\n",
    "+Successors are generated from only a single column, the leftmost empty column. If no empty column exists, then the function returns an empty list, indicating the absence of successors.\n",
    "+Successors are not generated from rows that are already occupied in the predecessor node.\n",
    "\n",
    "#### Functional Programming\n",
    "The `solve()` function accepts a parameter removefunc which is used as a function to remove states from the fringe. When `deque.pop` is passed as an argument, the `solve()` function implements DFS because the deque acts as LIFO queue (i.e., a stack). Passing `deque.popleft` as an argument makes the `solve()` function implement BFS because the deque acts as a FIFO queue. \n",
    "\n",
    "#### Performance Testing Code\n",
    "In order to test the time efficiency of BFS vs. DFS I created a function `timeSolution()` that measures the wall clock elapsed time needed to find a goal state.\n",
    "\n",
    "The code in the cell below is my own work."
   ]
  },
  {
   "cell_type": "code",
   "execution_count": 3,
   "metadata": {
    "collapsed": true
   },
   "outputs": [],
   "source": [
    "def leftmost_empty_column(board):\n",
    "    '''\n",
    "    returns index of leftmost empty column on board. Lower bound = 0, upper bound = N - 1\n",
    "    returns -1 if there are no empty columns\n",
    "    '''\n",
    "    for i in range(N):\n",
    "        if count_on_col(board, i) == 0:\n",
    "            return i\n",
    "    return -1\n",
    "\n",
    "def empty_rows(board):\n",
    "    '''\n",
    "    Returns a list of row indexes for the rows already occupied by rooks\n",
    "    '''\n",
    "    return [r for r in range(N) if count_on_row(board, r) == 0]\n",
    "\n",
    "# Get list of successors of given board state\n",
    "def successors2(board):\n",
    "    '''\n",
    "    Modifications from instructor-supplied code:\n",
    "    * No successors returned for occupied columns. Algorithm moves from left to right. \n",
    "      Successors are only selected from the leftmost empty column\n",
    "    * No successors returned for already-occupied rows\n",
    "    * Returns empty list if state has no successors (i.e., no empty columns remain on board)\n",
    "    '''\n",
    "    c = leftmost_empty_column(board)\n",
    "    if c == -1:\n",
    "        return []\n",
    "    empty = empty_rows(board)\n",
    "    return [add_piece(board, r, c) for r in empty]\n",
    "\n",
    "# check if board is a goal state\n",
    "def is_goal(board):\n",
    "    return count_pieces(board) == N and \\\n",
    "        all( [ count_on_row(board, r) <= 1 for r in range(0, N) ] ) and \\\n",
    "        all( [ count_on_col(board, c) <= 1 for c in range(0, N) ] )\n",
    "\n",
    "# Solve n-rooks!\n",
    "def solve(initial_board, removeFunc):\n",
    "    '''\n",
    "    this started as the instructor-supplied depth-first search code. \n",
    "    Changes by Chris Falter:\n",
    "        * call successors2 func, rather than the original successors func\n",
    "        * Use deque instead of list\n",
    "        * implemented as a general solver for both BFS and DFS. The algorithm is determined\n",
    "          by the choice of removeFunc. If removal is from right, fringe is treated as a\n",
    "          stack, so it's DFS. If removal is from left, fringe is treated as a FIFO queue,\n",
    "          so it's BFS.\n",
    "    '''\n",
    "    fringe = deque([initial_board])\n",
    "    while len(fringe) > 0:        \n",
    "        for s in successors2(removeFunc(fringe)):\n",
    "            if is_goal(s):\n",
    "                return(s)\n",
    "            fringe.append(s)\n",
    "    return False\n",
    "\n",
    "def solveDFS(initial_board):\n",
    "    '''\n",
    "    implements depth-first search for nrooks problem\n",
    "    '''\n",
    "    return solve(initial_board, deque.pop)\n",
    "\n",
    "def solveBFS(initial_board):\n",
    "    '''\n",
    "    implements breadth-first search for nroooks problem\n",
    "    '''\n",
    "    return solve(initial_board, deque.popleft)\n",
    "\n",
    "def timeSolution(solveFunc, initial_board, algorithm):\n",
    "    print (\"using \" + algorithm)\n",
    "    start = clock()\n",
    "    solution = solveFunc(initial_board)\n",
    "    elapsed = clock() - start\n",
    "    print (printable_board(solution) if solution else \"Sorry, no solution found. :(\")\n",
    "    print (\"solved in \" + str(elapsed) + \" seconds\\n\\n\")   \n"
   ]
  },
  {
   "cell_type": "markdown",
   "metadata": {},
   "source": [
    "### Run the Code\n",
    "To test the algorithms' time efficiency, configure the dimensions of the chess board and the number of rooks by setting the value of N as desired in the cell below. Then run the cell to see what happens!"
   ]
  },
  {
   "cell_type": "code",
   "execution_count": 4,
   "metadata": {},
   "outputs": [
    {
     "name": "stdout",
     "output_type": "stream",
     "text": [
      "Starting from initial board:\n",
      "_ _ _ _ _ _ _ _ _ _\n",
      "_ _ _ _ _ _ _ _ _ _\n",
      "_ _ _ _ _ _ _ _ _ _\n",
      "_ _ _ _ _ _ _ _ _ _\n",
      "_ _ _ _ _ _ _ _ _ _\n",
      "_ _ _ _ _ _ _ _ _ _\n",
      "_ _ _ _ _ _ _ _ _ _\n",
      "_ _ _ _ _ _ _ _ _ _\n",
      "_ _ _ _ _ _ _ _ _ _\n",
      "_ _ _ _ _ _ _ _ _ _\n",
      "\n",
      "Looking for solutions...\n",
      "\n",
      "using DFS\n",
      "_ _ _ _ _ _ _ _ _ R\n",
      "_ _ _ _ _ _ _ _ R _\n",
      "_ _ _ _ _ _ _ R _ _\n",
      "_ _ _ _ _ _ R _ _ _\n",
      "_ _ _ _ _ R _ _ _ _\n",
      "_ _ _ _ R _ _ _ _ _\n",
      "_ _ _ R _ _ _ _ _ _\n",
      "_ _ R _ _ _ _ _ _ _\n",
      "_ R _ _ _ _ _ _ _ _\n",
      "R _ _ _ _ _ _ _ _ _\n",
      "solved in 0.0003965890061093592 seconds\n",
      "\n",
      "\n",
      "using BFS\n",
      "R _ _ _ _ _ _ _ _ _\n",
      "_ R _ _ _ _ _ _ _ _\n",
      "_ _ R _ _ _ _ _ _ _\n",
      "_ _ _ R _ _ _ _ _ _\n",
      "_ _ _ _ R _ _ _ _ _\n",
      "_ _ _ _ _ R _ _ _ _\n",
      "_ _ _ _ _ _ R _ _ _\n",
      "_ _ _ _ _ _ _ R _ _\n",
      "_ _ _ _ _ _ _ _ R _\n",
      "_ _ _ _ _ _ _ _ _ R\n",
      "solved in 74.30493137491169 seconds\n",
      "\n",
      "\n"
     ]
    }
   ],
   "source": [
    "# This is N, the size of the board.\n",
    "N = 10\n",
    "\n",
    "# The board is stored as a list-of-lists. Each inner list is a row of the board.\n",
    "# A zero in a given square indicates no piece, and a 1 indicates a piece.\n",
    "initial_board = [[0]*N]*N\n",
    "print (\"Starting from initial board:\\n\" + printable_board(initial_board) + \"\\n\\nLooking for solutions...\\n\")\n",
    "timeSolution(solveDFS, initial_board, \"DFS\")\n",
    "timeSolution(solveBFS, initial_board, \"BFS\")"
   ]
  },
  {
   "cell_type": "markdown",
   "metadata": {},
   "source": [
    "DFS wins by several orders of magnitude! This is not surprising, considering that it has much lower time complexity than BFS, as I explained previously. It also has far lower memory complexity; the DFS fringe will hold a maximum of `2N - 1` states, while the BFS fringe will hold a maximum of `N!` states when it begins searching the final layer. With a 10 x 10 board, that amounts to 3,628,800 states in the fringe. "
   ]
  }
 ],
 "metadata": {
  "kernelspec": {
   "display_name": "Python 3",
   "language": "python",
   "name": "python3"
  },
  "language_info": {
   "codemirror_mode": {
    "name": "ipython",
    "version": 3
   },
   "file_extension": ".py",
   "mimetype": "text/x-python",
   "name": "python",
   "nbconvert_exporter": "python",
   "pygments_lexer": "ipython3",
   "version": "3.6.2"
  }
 },
 "nbformat": 4,
 "nbformat_minor": 2
}
