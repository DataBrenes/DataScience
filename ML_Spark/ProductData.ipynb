{
 "cells": [
  {
   "cell_type": "code",
   "execution_count": 4,
   "metadata": {},
   "outputs": [],
   "source": [
    "from pyspark import SparkContext, SparkConf\n",
    "from pyspark.sql import SparkSession\n",
    "\n",
    "sc_conf = SparkConf() \\\n",
    "    .setAppName('ProductData') \\\n",
    "    .setMaster('local[*]') \\\n",
    "    .set('spark.executor.cores', '3') \\\n",
    "    .set('spark.executor.memory', '1536m') \\\n",
    "    .set('spark.driver.cores', '1') \\\n",
    "    .set('spark.driver.memory', '1536m') \\\n",
    "    .set('spark.python.worker.memory', '1g')\n",
    "sc = SparkContext(conf=sc_conf)\n",
    "spark = SparkSession(sc)\n"
   ]
  },
  {
   "cell_type": "code",
   "execution_count": 5,
   "metadata": {},
   "outputs": [
    {
     "name": "stdout",
     "output_type": "stream",
     "text": [
      "+----------+--------------------+--------------------+-------------------+-----+\n",
      "|        id|               title|         description|       manufacturer|price|\n",
      "+----------+--------------------+--------------------+-------------------+-----+\n",
      "|b000jz4hqo|clickart 950 000 ...|                null|         broderbund|  0.0|\n",
      "|b0006zf55o|ca international ...|oem arcserve back...|computer associates|  0.0|\n",
      "+----------+--------------------+--------------------+-------------------+-----+\n",
      "only showing top 2 rows\n",
      "\n"
     ]
    }
   ],
   "source": [
    "# PART 1: Read each file and create RDD consisting of lines\n",
    "google_file = \"./data/Google.csv\"\n",
    "google_df = spark.read.csv(google_file, header = True, inferSchema = True)\n",
    "amazon_file = \"./data/Amazon.csv\"\n",
    "amazon_df = spark.read.csv(amazon_file, header = True, inferSchema = True)\n",
    "amazon_df.show(n = 2)"
   ]
  },
  {
   "cell_type": "code",
   "execution_count": 6,
   "metadata": {},
   "outputs": [
    {
     "name": "stdout",
     "output_type": "stream",
     "text": [
      "+----------+--------------------+--------------------+-------------------+-----+--------------------+\n",
      "|        id|               title|         description|       manufacturer|price|              tokens|\n",
      "+----------+--------------------+--------------------+-------------------+-----+--------------------+\n",
      "|b000jz4hqo|clickart 950 000 ...|                    |         broderbund|  0.0|                  []|\n",
      "|b0006zf55o|ca international ...|oem arcserve back...|computer associates|  0.0|[oem, arcserve, b...|\n",
      "+----------+--------------------+--------------------+-------------------+-----+--------------------+\n",
      "only showing top 2 rows\n",
      "\n"
     ]
    }
   ],
   "source": [
    "# PART 2: Remove stopwords, tokenize with regex\n",
    "from pyspark.ml.feature import RegexTokenizer, StopWordsRemover\n",
    "\n",
    "# substitute empty string for NULL so transforms don't fail\n",
    "amazon_df = amazon_df.fillna('')\n",
    "google_df = google_df.fillna('')\n",
    "\n",
    "# tokenize the description strings, separating on whitespace\n",
    "regex = RegexTokenizer(inputCol = \"description\", outputCol = \"tokens\", pattern=\"\\\\W\")\n",
    "amz_tokens = regex.transform(amazon_df)\n",
    "ggl_tokens = regex.transform(google_df)\n",
    "amz_tokens.show(n = 2)\n"
   ]
  },
  {
   "cell_type": "code",
   "execution_count": 7,
   "metadata": {},
   "outputs": [
    {
     "name": "stdout",
     "output_type": "stream",
     "text": [
      "+----------+--------------------+--------------------+-------------------+-----+--------------------+--------------------+\n",
      "|        id|               title|         description|       manufacturer|price|              tokens|            filtered|\n",
      "+----------+--------------------+--------------------+-------------------+-----+--------------------+--------------------+\n",
      "|b000jz4hqo|clickart 950 000 ...|                    |         broderbund|  0.0|                  []|                  []|\n",
      "|b0006zf55o|ca international ...|oem arcserve back...|computer associates|  0.0|[oem, arcserve, b...|[oem, arcserve, b...|\n",
      "+----------+--------------------+--------------------+-------------------+-----+--------------------+--------------------+\n",
      "only showing top 2 rows\n",
      "\n"
     ]
    }
   ],
   "source": [
    "# REMOVE STOP WORDS\n",
    "# get the stopwords list - this is horribly inefficient, but it's the only way I can get Spark\n",
    "# to pick up the file from the Databricks environment\n",
    "sw_file = \"./data/stopwords.txt\"\n",
    "stopwords_rdd = sc.parallelize(sw_file)\n",
    "stopwords_list = stopwords_rdd.collect()\n",
    "# create and use the stop words filter\n",
    "stopword_filter = StopWordsRemover(inputCol = \"tokens\", outputCol = \"filtered\", stopWords = stopwords_list)\n",
    "ggl_filtered = stopword_filter.transform(ggl_tokens)\n",
    "amz_filtered = stopword_filter.transform(amz_tokens)\n",
    "amz_filtered.show(n = 2)\n"
   ]
  },
  {
   "cell_type": "code",
   "execution_count": 8,
   "metadata": {},
   "outputs": [],
   "source": [
    "# PART 3: Write a function that takes a list of tokens and returns a dictionary mapping tokens to term frequency\n",
    "from pyspark.sql import Row\n",
    "\n",
    "def make_term_freq_dict(tokens, normalize = True):\n",
    "  '''\n",
    "  Returns a dictionary mapping term in a collection of tokens to its *normalized* frequency\n",
    "  '''\n",
    "  d = {}\n",
    "  if normalize:\n",
    "    normalization_factor = len(tokens)\n",
    "  else:\n",
    "    normalization_factor = 1.0\n",
    "  for tok in tokens:\n",
    "    if not tok in d:\n",
    "      d[tok] = 1./normalization_factor\n",
    "    else:d[tok] += 1./normalization_factor\n",
    "  return d   \n",
    "\n",
    "def term_freq(df, tokensColumn, mapColumn, normalize = True):\n",
    "  '''\n",
    "  Returns a Spark dataframe with a map of token to normalized count in the (new) designated column.\n",
    "  \n",
    "  Parameters:\n",
    "  df - pyspark.DataFrame instance\n",
    "  tokensColumn - name of column containing the tokens to be counted\n",
    "  mapColumn - name of column to which normalized term-frequency map will be written for each row\n",
    "  '''\n",
    "  newColumnList = df.columns + [mapColumn]\n",
    "  new_rdd = df.rdd.map(lambda row: (row + Row(make_term_freq_dict(row[tokensColumn], normalize))))\n",
    "  return new_rdd.toDF(newColumnList)\n"
   ]
  },
  {
   "cell_type": "code",
   "execution_count": 9,
   "metadata": {},
   "outputs": [
    {
     "name": "stdout",
     "output_type": "stream",
     "text": [
      "+------------------------------------------------------------------------------------------------------------------------+\n",
      "|                                                                                                                      tf|\n",
      "+------------------------------------------------------------------------------------------------------------------------+\n",
      "|                                                                                                                      []|\n",
      "|[1 -> 1.0, arcserve -> 1.0, backup -> 1.0, desktops -> 1.0, and -> 1.0, oem -> 1.0, v11 -> 1.0, for -> 1.0, 30u -> 1....|\n",
      "|                                                                                                                      []|\n",
      "|[year -> 1.0, advanced -> 1.0, striving -> 1.0, backed -> 1.0, costing -> 1.0, convert -> 1.0, your -> 5.0, billing -...|\n",
      "|[singing -> 1.0, nt -> 1.0, unlimited -> 1.0, xp -> 1.0, me -> 1.0, electronic -> 1.0, 2000 -> 1.0, learning -> 1.0, ...|\n",
      "|                     [disk -> 1.0, diskcromwindows -> 1.0, 5 -> 1.0, 7 -> 1.0, emc -> 1.0, to -> 1.0, retrospect -> 1.0]|\n",
      "|[standard -> 1.0, interactive -> 1.0, your -> 1.0, caching -> 1.0, output -> 1.0, preserved -> 1.0, tighter -> 1.0, l...|\n",
      "|[naturallyspeaking -> 3.0, temporary -> 1.0, accurate -> 1.0, software -> 2.0, safer -> 1.0, accuracy -> 1.0, corel -...|\n",
      "|[using -> 1.0, mia -> 2.0, will -> 1.0, in -> 2.0, save -> 1.0, their -> 1.0, house -> 1.0, skills -> 1.0, adventure ...|\n",
      "|[love -> 1.0, education -> 1.0, keys -> 1.0, for -> 1.0, their -> 1.0, learning -> 1.0, secret -> 1.0, pixar -> 1.0, ...|\n",
      "+------------------------------------------------------------------------------------------------------------------------+\n",
      "only showing top 10 rows\n",
      "\n"
     ]
    }
   ],
   "source": [
    "# test term_freq function\n",
    "counted = term_freq(amz_filtered, \"filtered\", \"tf\", False)\n",
    "counted.select('tf').show(n = 10, truncate = 120)\n"
   ]
  },
  {
   "cell_type": "code",
   "execution_count": 10,
   "metadata": {},
   "outputs": [],
   "source": [
    "# PART 4: combine the two filtered dataframes into a single \"corpus\"\n",
    "combined = ggl_filtered.select('id', 'filtered').union(amz_filtered.select('id','filtered'))"
   ]
  },
  {
   "cell_type": "code",
   "execution_count": 26,
   "metadata": {},
   "outputs": [],
   "source": [
    "# PART 5: An IDF function that returns a pair RDD having key = token and value = IDF. \n",
    "from pyspark.ml.feature import CountVectorizer, IDF\n",
    "\n",
    "def token_idf_pair_rdd(df, tokenCol):\n",
    "  '''\n",
    "  Calculates IDF for all tokens in designated column; \n",
    "  returns a pair RDD with token as key and IDF as value\n",
    "  '''\n",
    "  # The counter is binary per document-word because that is the simplest method of calculation\n",
    "  counter = CountVectorizer(binary = True, inputCol = tokenCol, outputCol = 'counted')\n",
    "  count_model = counter.fit(df)\n",
    "  counted = count_model.transform(df)\n",
    "  idfer = IDF(inputCol = 'counted', outputCol = 'idf')\n",
    "  idf_model = idfer.fit(counted)\n",
    "  tf_idf = idf_model.transform(counted)\n",
    "  data = [(count_model.vocabulary[i], float(idf_model.idf[i])) for i in range(len(count_model.vocabulary))]\n",
    "  return sc.parallelize(data)\n"
   ]
  },
  {
   "cell_type": "code",
   "execution_count": 12,
   "metadata": {},
   "outputs": [
    {
     "data": {
      "text/plain": [
       "[('and', 0.47972392120040291),\n",
       " ('the', 0.57338112086856174),\n",
       " ('to', 0.71606576853438264),\n",
       " ('of', 0.8653242882821276),\n",
       " ('your', 1.0658224658451187)]"
      ]
     },
     "execution_count": 12,
     "metadata": {},
     "output_type": "execute_result"
    }
   ],
   "source": [
    "# Verify that the function works\n",
    "idf_map_rdd = token_idf_pair_rdd(combined, 'filtered')\n",
    "idf_map_rdd.take(5)"
   ]
  },
  {
   "cell_type": "code",
   "execution_count": 47,
   "metadata": {},
   "outputs": [
    {
     "data": {
      "text/plain": [
       "<matplotlib.axes._subplots.AxesSubplot at 0x7f3aae04a0f0>"
      ]
     },
     "execution_count": 47,
     "metadata": {},
     "output_type": "execute_result"
    },
    {
     "data": {
      "image/png": "[encoded data removed]",
      "text/plain": [
       "<Figure size 432x288 with 1 Axes>"
      ]
     },
     "metadata": {},
     "output_type": "display_data"
    }
   ],
   "source": [
    "# Histogram of IDF values\n",
    "import pandas as pd\n",
    "%matplotlib inline\n",
    "\n",
    "idf_hist = idf_map_rdd.map(lambda x: x[1]).histogram(10)\n",
    "idf_hist_list = list(zip(*idf_hist))\n",
    "pd_hist = pd.DataFrame(idf_hist_list, columns = [\"idf\", \"count\"])\n",
    "pd_hist.set_index('idf')\n",
    "pd_hist.plot(kind='bar')\n"
   ]
  },
  {
   "cell_type": "code",
   "execution_count": 38,
   "metadata": {},
   "outputs": [],
   "source": [
    "# PART 6: Write a function which does the following on entire corpus:\n",
    "# (a) Calculate term frequencies (not normalized) for tokens\n",
    "# (b) Create a DataFrame where each token maps to the token's frequency times the token's IDF weight\n",
    "import pyspark.sql.functions as func\n",
    "from pyspark.sql.types import StructField, StructType, DoubleType, StringType\n",
    "\n",
    "def word_count_df(df, tokenCol, wordColumnName = 'word', countColumnName = 'count'):\n",
    "  '''\n",
    "  Returns a dataframe with 2 columns:\n",
    "    * keyColumnName - tokens\n",
    "    * valueColumnName - count of token aggregated over all rows in df\n",
    "  '''\n",
    "  # Note that the counts are *not* normalized per-document\n",
    "  df_mapped = term_freq(df, tokenCol, 'tf', normalize = False)\n",
    "  df_word_count = df_mapped.select(func.explode('tf'))\n",
    "  df_word_count = df_word_count.groupby('key').agg(func.sum('value').alias(countColumnName))\n",
    "  return df_word_count.withColumnRenamed('key', wordColumnName)\n",
    "  \n",
    "def tf_idf_over_corpus(df, tokenCol):\n",
    "  '''\n",
    "  Returns a dataframe with two columns:\n",
    "  * \"word\": string - unique token\n",
    "  * \"tfidf\": float - count-in-corpus times idf\n",
    "  Also returns a pair RDD with 1st column/key = token and 2d col/value = IDF \n",
    "  \n",
    "  Parameters:\n",
    "  df - DataFrame\n",
    "  tokenCol:string - name of column containing tokens\n",
    "  '''\n",
    "  # drop all the columns except for the tokens column\n",
    "  columnList = df.columns\n",
    "  columnList.remove(tokenCol)\n",
    "  for c in columnList:\n",
    "    df = df.drop(c)\n",
    "    \n",
    "  # get an idf pair rdd (word -> idf)\n",
    "  idf_rdd = token_idf_pair_rdd(df, tokenCol)\n",
    "  df_idf_schema = StructType([\n",
    "    StructField(\"word\", StringType()),\n",
    "    StructField(\"idf\", DoubleType())\n",
    "  ])\n",
    "  df_idf = spark.createDataFrame(idf_rdd, df_idf_schema)\n",
    "  \n",
    "  # get a dataframe with two columns, 'word' and 'count'\n",
    "  df_wc = word_count_df(df, tokenCol, wordColumnName = 'word', countColumnName = 'count')\n",
    "  df_wc.drop(tokenCol)\n",
    "  \n",
    "  # join on the 'word' column\n",
    "  df_wc_idf = df_wc.join(df_idf, on = 'word')\n",
    "  \n",
    "  # do the multiplication to yield the tf-idf\n",
    "  return df_wc_idf.withColumn('tfidf', func.col('count') * func.col('idf')).drop('count').drop('idf'), idf_rdd\n"
   ]
  },
  {
   "cell_type": "code",
   "execution_count": 40,
   "metadata": {},
   "outputs": [
    {
     "name": "stdout",
     "output_type": "stream",
     "text": [
      "StructType(List(StructField(word,StringType,false),StructField(tfidf,DoubleType,true)))\n",
      "['word', 'tfidf']\n",
      "StructType(List(StructField(map,MapType(StringType,DoubleType,true),false)))\n",
      "['map']\n"
     ]
    }
   ],
   "source": [
    "# test the tf_idf_over_corpus function, which returns \n",
    "# (1) a DF with columns 'word' and 'tfidf'\n",
    "# (2) a pair RDD with key = token and value = IDF\n",
    "\n",
    "from itertools import chain\n",
    "from pyspark.sql.functions import col, create_map\n",
    "\n",
    "df_tfidf, _ = tf_idf_over_corpus(combined, 'filtered')\n",
    "\n",
    "# Let's transform the data to a mapped format, with a single column that maps word->tfidf\n",
    "map_column = create_map(list(chain((col('word'), col('tfidf'))))).alias('map')\n",
    "df_map = df_tfidf.select(map_column)\n",
    "\n",
    "# Let's take a peek at the map dataframe\n",
    "print(df_tfidf.schema)\n",
    "print(df_tfidf.columns)\n",
    "print(df_map.schema)\n",
    "print(df_map.columns)\n",
    "\n",
    "# Save to a file in json format \n",
    "dfmap_file = \"./data/d.json\"\n",
    "df_map.write.json(dfmap_file)\n"
   ]
  }
 ],
 "metadata": {
  "kernelspec": {
   "display_name": "Python 3",
   "language": "python",
   "name": "python3"
  },
  "language_info": {
   "codemirror_mode": {
    "name": "ipython",
    "version": 3
   },
   "file_extension": ".py",
   "mimetype": "text/x-python",
   "name": "python",
   "nbconvert_exporter": "python",
   "pygments_lexer": "ipython3",
   "version": "3.6.5"
  }
 },
 "nbformat": 4,
 "nbformat_minor": 2
}
