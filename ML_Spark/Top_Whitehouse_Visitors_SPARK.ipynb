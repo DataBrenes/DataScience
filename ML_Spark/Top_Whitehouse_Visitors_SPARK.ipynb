{
 "cells": [
  {
   "cell_type": "markdown",
   "metadata": {},
   "source": [
    "# Find the Top 100 White House Visitors in 2011, Using PySpark\n",
    "A lab in the Hortonworks *HDP Analyst: Data Science* course challenged students to use PySpark to analyze the question of White House visits. The code in this notebook is based on the instructions, but I have made improvements throughout for readabiity and style.\n",
    "\n",
    "This notebook is intended to run from the HDP Sandbox on port 9999."
   ]
  },
  {
   "cell_type": "code",
   "execution_count": 1,
   "metadata": {
    "collapsed": true
   },
   "outputs": [],
   "source": [
    "from pyspark import SparkContext\n",
    "sc = SparkContext()"
   ]
  },
  {
   "cell_type": "markdown",
   "metadata": {},
   "source": [
    "## Load the Data into an RDD\n",
    "PySpark will likely never support the new DataSet type, so this lab uses the Resilient Distributed Dataset type. PySpark *does* support the DataFrame distributed type, which is processed much more efficiently by the Catalyst processor than RDDs. The operations supported by RDD and DataFrame are disjoint, so you have to know how to use both."
   ]
  },
  {
   "cell_type": "code",
   "execution_count": 2,
   "metadata": {
    "collapsed": false
   },
   "outputs": [
    {
     "data": {
      "text/plain": [
       "MapPartitionsRDD[1] at textFile at NativeMethodAccessorImpl.java:-2"
      ]
     },
     "execution_count": 2,
     "metadata": {},
     "output_type": "execute_result"
    }
   ],
   "source": [
    "visits = sc.textFile(\"/user/root/whitehouse/visits.txt\")\n",
    "visits"
   ]
  },
  {
   "cell_type": "markdown",
   "metadata": {},
   "source": [
    "## Mapping\n",
    "The map function applies a transforming function (i.e., a \"map\") to each record in the RDD. The Python lambda syntax provides a very fluent way to apply the map to each record."
   ]
  },
  {
   "cell_type": "code",
   "execution_count": 3,
   "metadata": {
    "collapsed": false
   },
   "outputs": [
    {
     "data": {
      "text/plain": [
       "[(u'ADAMS, CHRISTINE', u'ADAMS'),\n",
       " (u'ADAMS, SCHUYLER', u'ADAMS'),\n",
       " (u'MAHER, HELEN', u'ADAMS'),\n",
       " (u'MAHER, PATRICK', u'ADAMS'),\n",
       " (u'MOORE, JESSICA', u'ADAMS'),\n",
       " (u'MOORE, LYNN', u'ADAMS'),\n",
       " (u'MOORE, RYAN', u'ADAMS'),\n",
       " (u'MOORE, THOMAS', u'ADAMS'),\n",
       " (u'PARK, ANNE', u'ADAMS'),\n",
       " (u'PARK, MAGGIE', u'ADAMS')]"
      ]
     },
     "execution_count": 3,
     "metadata": {},
     "output_type": "execute_result"
    }
   ],
   "source": [
    "LASTNAME = 0\n",
    "FIRSTNAME = 1\n",
    "VISITEE = 19\n",
    "def extract_visitors_and_visitee(rec):\n",
    "    fields = rec.split(',')\n",
    "    return (\", \".join(list([fields[LASTNAME], fields[FIRSTNAME]])), fields[VISITEE])\n",
    "\n",
    "visitors_and_visitees = visits.map(lambda record: extract_visitors_and_visitee(record))\n",
    "visitors_and_visitees.take(10)"
   ]
  },
  {
   "cell_type": "markdown",
   "metadata": {},
   "source": [
    "## Filtering\n",
    "Applying a filter returns an RDD containing only the records that match the filter criteria. In this case, we want an RDD that only contains visits to the President of the United States (\"POTUS\")."
   ]
  },
  {
   "cell_type": "code",
   "execution_count": 4,
   "metadata": {
    "collapsed": false
   },
   "outputs": [
    {
     "data": {
      "text/plain": [
       "[(u'BUCKLEY, SUMMER', u'POTUS'),\n",
       " (u'CLOONEY, GEORGE', u'POTUS'),\n",
       " (u'PRENDERGAST, JOHN', u'POTUS'),\n",
       " (u'LANIER, JAZMIN', u'POTUS'),\n",
       " (u'MAYNARD, ELIZABETH', u'POTUS'),\n",
       " (u'MAYNARD, GREGORY', u'POTUS'),\n",
       " (u'MAYNARD, JOANNE', u'POTUS'),\n",
       " (u'MAYNARD, KATHERINE', u'POTUS'),\n",
       " (u'MAYNARD, PHILIP', u'POTUS'),\n",
       " (u'MOHAN, EDWARD', u'POTUS')]"
      ]
     },
     "execution_count": 4,
     "metadata": {},
     "output_type": "execute_result"
    }
   ],
   "source": [
    "potus_visits = visitors_and_visitees.filter(lambda rec: \"POTUS\" in rec[1])\n",
    "potus_visits.take(10)"
   ]
  },
  {
   "cell_type": "markdown",
   "metadata": {},
   "source": [
    "## Reducing to find the count of visits\n",
    "This is a two-step operation, where the \"key\" of the operation is the first column (name):\n",
    "1. Make the value in each record the integer 1.\n",
    "2. Add the values by key using the `reduceByKey` function. This yields a single record for each key, with a value of the number of visits."
   ]
  },
  {
   "cell_type": "code",
   "execution_count": 5,
   "metadata": {
    "collapsed": false
   },
   "outputs": [
    {
     "data": {
      "text/plain": [
       "[(u'BUCKLEY, SUMMER', 1),\n",
       " (u'CLOONEY, GEORGE', 1),\n",
       " (u'PRENDERGAST, JOHN', 1),\n",
       " (u'LANIER, JAZMIN', 1),\n",
       " (u'MAYNARD, ELIZABETH', 1)]"
      ]
     },
     "execution_count": 5,
     "metadata": {},
     "output_type": "execute_result"
    }
   ],
   "source": [
    "potus_count = potus_visits.map(lambda rec: (rec[0], 1))\n",
    "potus_count.take(5)"
   ]
  },
  {
   "cell_type": "code",
   "execution_count": 6,
   "metadata": {
    "collapsed": false
   },
   "outputs": [
    {
     "data": {
      "text/plain": [
       "[(u'DONOVAN, MICHAEL', 1),\n",
       " (u'PHELPS, DARREN', 3),\n",
       " (u'RASSAS, TODD', 1),\n",
       " (u'LABOISSIERE, MARTHA', 1),\n",
       " (u'SCHUYLER, NICHOLAS', 2)]"
      ]
     },
     "execution_count": 6,
     "metadata": {},
     "output_type": "execute_result"
    }
   ],
   "source": [
    "counts = potus_count.reduceByKey(lambda a, b: a + b)\n",
    "counts.take(5)"
   ]
  },
  {
   "cell_type": "markdown",
   "metadata": {},
   "source": [
    "## Sorting By Value\n",
    "It's tricky to sort by value in Spark because it can only sort by key. Therefore you must follow these steps:\n",
    "1. Reverse each record so that the value becomes the key, and the key becomes the value.\n",
    "2. Sort the records by key using the aptly named function `sortByKey`.\n",
    "3. Undo the reversal.\n",
    "Now we have the original records, sorted by the number of visits to Obama."
   ]
  },
  {
   "cell_type": "code",
   "execution_count": 7,
   "metadata": {
    "collapsed": false
   },
   "outputs": [
    {
     "data": {
      "text/plain": [
       "[(u'PRATHER, ALAN', 16),\n",
       " (u'MOTTOLA, ANNAMARIA', 15),\n",
       " (u'FRANKE, CHRISTOPHER', 15),\n",
       " (u'BOGUSLAW, ROBERT', 14),\n",
       " (u'POWERS, CHARLES', 14),\n",
       " (u'SATO, FERN', 12),\n",
       " (u'FISH, DIANA', 12),\n",
       " (u'WALKER, JACKIE', 12),\n",
       " (u'WANG, SHENGTSUNG', 12),\n",
       " (u'HART, SARAH', 12),\n",
       " (u'FETTIG, JASON', 12),\n",
       " (u'DEWEY, GLENN', 11),\n",
       " (u'WILSON, PETER', 11),\n",
       " (u'BAILEY, JANET', 11),\n",
       " (u'BOTELHO, MARCIO', 11),\n",
       " (u'WILLINGHAM, DONNA', 11),\n",
       " (u'SMITH, CHAERIM', 10),\n",
       " (u'CHUDACOFF, CLAUDIA', 10),\n",
       " (u'JARRETT, VALERIE', 10),\n",
       " (u'COLBURN, MICHAEL', 10),\n",
       " (u'SABO, ERIC', 10),\n",
       " (u'AXELROD, DAVID', 10),\n",
       " (u'MADRID, REGINO', 10),\n",
       " (u'TRUMKA, RICHARD', 9),\n",
       " (u'DALEY, WILLIAM', 9),\n",
       " (u'TRAN, TAM', 9),\n",
       " (u'RAKERS, MICHELLE', 9),\n",
       " (u'SEARFOSS, STEVEN', 9),\n",
       " (u'SHIEH, FRANCIS', 9),\n",
       " (u'HOLDER, ERIC', 9),\n",
       " (u'MERGEN, MICHAEL', 8),\n",
       " (u'PELOSI, NANCY', 8),\n",
       " (u'CLAY, AARON', 8),\n",
       " (u'WILSON, RUSSELL', 8),\n",
       " (u'SHER, SUSAN', 8),\n",
       " (u'COLLINS, MICHAEL', 8),\n",
       " (u'ZENOBIA, HEATHER', 8),\n",
       " (u'RIDLINGTON, GREGORY', 7),\n",
       " (u'LUBIN, MATTHEW', 7),\n",
       " (u'GOOLSBEE, AUSTAN', 7),\n",
       " (u'VINSON, TESSA', 7),\n",
       " (u'KELLER, BERNADETTE', 7),\n",
       " (u'MURRAY, DAVID', 7),\n",
       " (u'GRAY, VINCENT', 7),\n",
       " (u'STRONG, JEFFREY', 7),\n",
       " (u'SEBELIUS, KATHLEEN', 6),\n",
       " (u'ORBAN, DANIEL', 6),\n",
       " (u'COSTELLO, JERRY', 6),\n",
       " (u'BRENNAN, JOHN', 6),\n",
       " (u'WYDEN, RON', 6),\n",
       " (u'ACREE, RUDOLPH', 6),\n",
       " (u'HOYER, STENY', 6),\n",
       " (u'LOCKE, MONA', 6),\n",
       " (u'LAUTENBERG, FRANK', 6),\n",
       " (u'PLOUFFE, DAVID', 6),\n",
       " (u'DAVIS, SUSAN', 6),\n",
       " (u'MOELIS, CINDY', 6),\n",
       " (u'WAXMAN, HENRY', 6),\n",
       " (u'DUNCAN, ARNE', 6),\n",
       " (u'GOOLSBEE, ROBIN', 6),\n",
       " (u'PAUL, JENNIFER', 6),\n",
       " (u'KIRK, RON', 6),\n",
       " (u'LEW, JACOB', 6),\n",
       " (u'JEFFRIES, ERICA', 6),\n",
       " (u'DURBIN, DICK', 6),\n",
       " (u'FISHER, THOMAS', 6),\n",
       " (u'AXELROD, SUSAN', 6),\n",
       " (u'PETTY, REED', 6),\n",
       " (u'LEVIN, CARL', 6),\n",
       " (u'KEEHAN, CAROL', 5),\n",
       " (u'FILNER, BOB', 5),\n",
       " (u'MCFARLANE, CHRISTOPHER', 5),\n",
       " (u'KENNEDY, VICTORIA', 5),\n",
       " (u'HICKENLOOPER, JOHN', 5),\n",
       " (u'ALI, SAMAR', 5),\n",
       " (u'PELOSI, PAUL', 5),\n",
       " (u'PATRICK, DEVAL', 5),\n",
       " (u'LOPEZ, ANDRES', 5),\n",
       " (u'PAYNE, DONALD', 5),\n",
       " (u'MCCLELLAN, CORNELL', 5),\n",
       " (u'SCHIFF, ADAM', 5),\n",
       " (u'DONOVAN, SHAUN', 5),\n",
       " (u'SURESH, SUBRA', 5),\n",
       " (u'DAVIS, RICHARD', 5),\n",
       " (u'HARKIN, TOM', 5),\n",
       " (u'ALBERDING, ELLEN', 5),\n",
       " (u'LEWIS, JOHN', 5),\n",
       " (u'GASPARD, PATRICK', 5),\n",
       " (u'DONILON, THOMAS', 5),\n",
       " (u'SHARPTON, AL', 5),\n",
       " (u'MILLER, MATTHEW', 5),\n",
       " (u'QUINN, PAT', 5),\n",
       " (u'MARKELL, JACK', 5),\n",
       " (u'MORGAN, OLIVIA', 5),\n",
       " (u'BOWSER, ROBERT', 5),\n",
       " (u'BASU, AUVEEK', 5),\n",
       " (u'DAYTON, MARK', 5),\n",
       " (u'CORVINGTON, PATRICK', 5),\n",
       " (u'MILLER, GEORGE', 5),\n",
       " (u'KILDEE, DALE', 5)]"
      ]
     },
     "execution_count": 7,
     "metadata": {},
     "output_type": "execute_result"
    }
   ],
   "source": [
    "counts_reversed = counts.map(lambda rec: (rec[1], rec[0]))\n",
    "reversed_sorted = counts_reversed.sortByKey(ascending = False)\n",
    "count_sorted = reversed_sorted.map(lambda rec: (rec[1], rec[0]))\n",
    "# top 100 visitors to Obama by frequency\n",
    "count_sorted.take(100)"
   ]
  },
  {
   "cell_type": "markdown",
   "metadata": {},
   "source": [
    "## Results\n",
    "Now we know who some of the most important Presidential advisors (e.g., Valerie Jarrett), members of Congress (e.g., Nancy Pelosi), and public figures (e.g., Governor John Hickenlooper) were in 2011, as measured by their access to President Obama."
   ]
  },
  {
   "cell_type": "code",
   "execution_count": null,
   "metadata": {
    "collapsed": true
   },
   "outputs": [],
   "source": []
  }
 ],
 "metadata": {
  "kernelspec": {
   "display_name": "Python 2",
   "language": "python",
   "name": "python2"
  },
  "language_info": {
   "codemirror_mode": {
    "name": "ipython",
    "version": 2
   },
   "file_extension": ".py",
   "mimetype": "text/x-python",
   "name": "python",
   "nbconvert_exporter": "python",
   "pygments_lexer": "ipython2",
   "version": "2.7.9"
  }
 },
 "nbformat": 4,
 "nbformat_minor": 0
}
