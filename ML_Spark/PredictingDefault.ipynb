{
 "cells": [
  {
   "cell_type": "markdown",
   "metadata": {},
   "source": [
    "# Predicting Credit Card Default\n",
    "This notebook predicts credit card defaults in the month of October 2005 for a Taiwanese bank. The bank's data science team uploaded anonymized customer account data from the previous 6 months as [a dataset in the UCI repository](https://archive.ics.uci.edu/ml/datasets/default+of+credit+card+clients). The notebook will use PySpark libraries to create a pipeline that cleans data, engineers features, and builds a feature vector that can be used by `pyspark.ml.classification` models. Then the performance of the various models will be compared."
   ]
  },
  {
   "cell_type": "code",
   "execution_count": null,
   "metadata": {},
   "outputs": [],
   "source": [
    "from pyspark import SparkContext, SparkConf\n",
    "from pyspark.sql import SparkSession\n",
    "\n",
    "sc_conf = SparkConf() \\\n",
    "    .setAppName('ProductData') \\\n",
    "    .setMaster('local[*]') \\\n",
    "    .set('spark.executor.cores', '3') \\\n",
    "    .set('spark.executor.memory', '1536m') \\\n",
    "    .set('spark.driver.cores', '1') \\\n",
    "    .set('spark.driver.memory', '1536m') \\\n",
    "    .set('spark.python.worker.memory', '1g')\n",
    "sc = SparkContext(conf=sc_conf)\n",
    "spark = SparkSession(sc)\n"
   ]
  },
  {
   "cell_type": "code",
   "execution_count": 1,
   "metadata": {},
   "outputs": [],
   "source": [
    "# I tried using UDFs to set anomalous observations to NaN, but the approach resulted in nothing but NaNs. \n",
    "# The code looks good to me, but bad to Spark. I have therefore resorted to RDD map functionality, which works\n",
    "# just fine (see next cell). I am keeping the mysteriously not-working code in this cell as a reminder to explore the problem\n",
    "# more as time is available.\n",
    "\n",
    "# from pyspark.sql.functions import udf\n",
    "\n",
    "# reject_educ_anomalies = udf(lambda level: level if 0 < level < 5 else float('nan'), DoubleType())\n",
    "# reject_marriage_anomalies = udf(lambda status: status if 0 < status < 4 else float('nan'), DoubleType())\n",
    "# reject_educ_anomalies = udf(lambda level: permissible_range(1, 4, level), DoubleType())\n",
    "# reject_marriage_anomalies = udf(lambda status: permissible_range(1, 3, status), DoubleType())\n"
   ]
  },
  {
   "cell_type": "code",
   "execution_count": 4,
   "metadata": {},
   "outputs": [
    {
     "name": "stdout",
     "output_type": "stream",
     "text": [
      "+---------------+--------------+-------+---+----+---------+---------+---------+---------+---------+---------+---------+---------+---------+---------+---------+---------+-------+-------+-------+-------+-------+-------+-----+\n",
      "|Education_Level|Marital_Status|  Limit|Sex| Age|Status_09|Status_08|Status_07|Status_06|Status_05|Status_04|Billed_09|Billed_08|Billed_07|Billed_06|Billed_05|Billed_04|Paid_09|Paid_08|Paid_07|Paid_06|Paid_05|Paid_04|label|\n",
      "+---------------+--------------+-------+---+----+---------+---------+---------+---------+---------+---------+---------+---------+---------+---------+---------+---------+-------+-------+-------+-------+-------+-------+-----+\n",
      "|            2.0|           1.0|20000.0|2.0|24.0|        2|        2|       -1|       -1|       -2|       -2|   3913.0|   3102.0|    689.0|      0.0|      0.0|      0.0|    0.0|  689.0|    0.0|    0.0|    0.0|    0.0|    1|\n",
      "+---------------+--------------+-------+---+----+---------+---------+---------+---------+---------+---------+---------+---------+---------+---------+---------+---------+-------+-------+-------+-------+-------+-------+-----+\n",
      "only showing top 1 row\n",
      "\n",
      "root\n",
      " |-- Education_Level: double (nullable = true)\n",
      " |-- Marital_Status: double (nullable = true)\n",
      " |-- Limit: double (nullable = true)\n",
      " |-- Sex: double (nullable = true)\n",
      " |-- Age: double (nullable = true)\n",
      " |-- Status_09: integer (nullable = true)\n",
      " |-- Status_08: integer (nullable = true)\n",
      " |-- Status_07: integer (nullable = true)\n",
      " |-- Status_06: integer (nullable = true)\n",
      " |-- Status_05: integer (nullable = true)\n",
      " |-- Status_04: integer (nullable = true)\n",
      " |-- Billed_09: double (nullable = true)\n",
      " |-- Billed_08: double (nullable = true)\n",
      " |-- Billed_07: double (nullable = true)\n",
      " |-- Billed_06: double (nullable = true)\n",
      " |-- Billed_05: double (nullable = true)\n",
      " |-- Billed_04: double (nullable = true)\n",
      " |-- Paid_09: double (nullable = true)\n",
      " |-- Paid_08: double (nullable = true)\n",
      " |-- Paid_07: double (nullable = true)\n",
      " |-- Paid_06: double (nullable = true)\n",
      " |-- Paid_05: double (nullable = true)\n",
      " |-- Paid_04: double (nullable = true)\n",
      " |-- label: integer (nullable = true)\n",
      "\n"
     ]
    }
   ],
   "source": [
    "from pyspark.sql.types import IntegerType, DoubleType, BinaryType\n",
    "from pyspark.sql import DataFrameNaFunctions\n",
    "from random import randint\n",
    "from pyspark.sql import Row\n",
    "\n",
    "default_file = \"./data/default_cc.csv\"\n",
    "df = spark.read.csv(default_file, header = True, inferSchema = True)\n",
    "\n",
    "def permissible_range(lower, upper, value):\n",
    "    if lower <= value <= upper:\n",
    "        return float(value)\n",
    "    else:\n",
    "        return float('nan')\n",
    "    \n",
    "df_aliases = df.select(\n",
    "    df['_c0'].alias('Id'),\n",
    "    df['X1'].cast(DoubleType()).alias('Limit'),\n",
    "    df['X2'].cast(DoubleType()).alias('Sex'),\n",
    "    df['X5'].cast(DoubleType()).alias('Age'),\n",
    "    df['X6'].alias('Status_09'),\n",
    "    df['X7'].alias('Status_08'),\n",
    "    df['X8'].alias('Status_07'),\n",
    "    df['X9'].alias('Status_06'),\n",
    "    df['X10'].alias('Status_05'),\n",
    "    df['X11'].alias('Status_04'),\n",
    "    df['X12'].cast(DoubleType()).alias('Billed_09'),\n",
    "    df['X13'].cast(DoubleType()).alias('Billed_08'),\n",
    "    df['X14'].cast(DoubleType()).alias('Billed_07'),\n",
    "    df['X15'].cast(DoubleType()).alias('Billed_06'),\n",
    "    df['X16'].cast(DoubleType()).alias('Billed_05'),\n",
    "    df['X17'].cast(DoubleType()).alias('Billed_04'),\n",
    "    df['X18'].cast(DoubleType()).alias('Paid_09'),\n",
    "    df['X19'].cast(DoubleType()).alias('Paid_08'),\n",
    "    df['X20'].cast(DoubleType()).alias('Paid_07'),\n",
    "    df['X21'].cast(DoubleType()).alias('Paid_06'),\n",
    "    df['X22'].cast(DoubleType()).alias('Paid_05'),\n",
    "    df['X23'].cast(DoubleType()).alias('Paid_04'),\n",
    "    df['Y'].alias('label')\n",
    ")\n",
    "\n",
    "df_constrained = df.rdd.map(lambda row: Row(\n",
    "    Id = row['_c0'],\n",
    "    Education_Level = permissible_range(1,4,row['X3']),\n",
    "    Marital_Status = permissible_range(1,3,row['X4'])\n",
    ")).toDF()\n",
    "\n",
    "df = df_constrained.join(df_aliases, df_aliases.Id == df_constrained.Id).drop(df_constrained.Id).drop(df_aliases.Id)\n",
    "\n",
    "df.show(n = 1)\n",
    "df.printSchema()"
   ]
  },
  {
   "cell_type": "markdown",
   "metadata": {},
   "source": [
    "## A Data Processing Pipeline\n",
    "Spark pipelines, like the well-known Python scikit-learn pipelines, can perform a series of transformations and estimations on a data set. Because the estimators can be classification or regression models, the entire data science workflow, from data munging to prediction, can be embedded in a pipeline. Pipelines have the following useful features:\n",
    "1. They provide a clear, easy to understand overview of preprocessing, analysis, training, and prediction steps.\n",
    "2. A wide range of built-in transformers are available for typical common data preprocessing needs. \n",
    "3. They facilitate building custom transformers that can be reused as steps in other pipelines.\n",
    "4. The pipelines themselves are reusable. They can even be saved to disk and rehydrated in another notebook or Python script without any need to import code.\n",
    "\n",
    "The pipeline in this notebook includes the following steps:\n",
    "* Cleaning\n",
    "* Feature Engineering\n",
    "* Building a Feature Vector\n",
    "* Normalization\n",
    "\n",
    "The pipeline does not include any models because this notebook is intended only for model selection, rather than ongoing prediction in a production environment."
   ]
  },
  {
   "cell_type": "markdown",
   "metadata": {},
   "source": [
    "### Data Cleaning\n",
    "The following section relies on [exploratory data analysis published by the Neuroimaging Research Centre](https://github.com/neurospin/pystatsml/blob/master/python/ml_case_studies.py) to determine which columns contain anomalous values. However, I am 100% responsible for the Pyspark code."
   ]
  },
  {
   "cell_type": "code",
   "execution_count": 13,
   "metadata": {},
   "outputs": [
    {
     "name": "stdout",
     "output_type": "stream",
     "text": [
      "+---------------+-----+\n",
      "|Education_Level|count|\n",
      "+---------------+-----+\n",
      "|            NaN|  345|\n",
      "|            1.0|10585|\n",
      "|            4.0|  123|\n",
      "|            3.0| 4917|\n",
      "|            2.0|14030|\n",
      "+---------------+-----+\n",
      "\n",
      "+--------------+-----+\n",
      "|Marital_Status|count|\n",
      "+--------------+-----+\n",
      "|           NaN|   54|\n",
      "|           1.0|13659|\n",
      "|           3.0|  323|\n",
      "|           2.0|15964|\n",
      "+--------------+-----+\n",
      "\n"
     ]
    }
   ],
   "source": [
    "# Let's inspect the features with missing values\n",
    "df.groupby('Education_Level').count().show()\n",
    "df.groupby('Marital_Status').count().show()"
   ]
  },
  {
   "cell_type": "code",
   "execution_count": 5,
   "metadata": {},
   "outputs": [],
   "source": [
    "from pyspark.ml.feature import Binarizer, Imputer\n",
    "\n",
    "sexBinarizer = Binarizer(inputCol = 'Sex', outputCol = 'isFemale', threshold = 1.5)\n",
    "medianImputer = Imputer(\n",
    "    inputCols = ['Education_Level', 'Marital_Status'], \n",
    "    outputCols = ['Education', 'Marital'], \n",
    "    strategy = 'median')\n"
   ]
  },
  {
   "cell_type": "markdown",
   "metadata": {},
   "source": [
    "### Feature Engineering\n",
    "Knowing that a customer has a balance of TWD 30,000 ($1000 US at today's exchange rate) is probably not very helpful by itself. However, the trend in the balance (going up vs. going down over the past 6 months) would seem to be much more helpful. Likewise, knowing whether the customer's balance is 95% of his/her account limit, or only 1%, would also seem helpful. Thus, the code in this section develops trends and ratios that can be consumed by downstream models.\n",
    "\n",
    "Note: for the time being, this code does not look for patterns in month-to-month movements in ratios. While this sort of sequential analysis seems promising, I will have to add it to my backlog for now."
   ]
  },
  {
   "cell_type": "code",
   "execution_count": 6,
   "metadata": {},
   "outputs": [],
   "source": [
    "from pyspark.ml.feature import SQLTransformer\n",
    "\n",
    "balTrendStatement = \"SELECT *, \" + \\\n",
    "    \"(Billed_09 - Billed_04) as BalTrend_04, \" + \\\n",
    "    \"(Billed_09 - Billed_05) as BalTrend_05, \" + \\\n",
    "    \"(Billed_09 - Billed_06) as BalTrend_06, \" + \\\n",
    "    \"(Billed_09 - Billed_07) as BalTrend_07, \" + \\\n",
    "    \"(Billed_09 - Billed_08) as BalTrend_08 \" + \\\n",
    "    \"FROM __THIS__\"\n",
    "balTrendTransformer = SQLTransformer(statement = balTrendStatement)\n",
    "\n",
    "pctLimitStatement = \"SELECT *, \" + \\\n",
    "    \"(Billed_04/Limit) as PctLimit_04, \" + \\\n",
    "    \"(Billed_05/Limit) as PctLimit_05, \" + \\\n",
    "    \"(Billed_06/Limit) as PctLimit_06, \" + \\\n",
    "    \"(Billed_07/Limit) as PctLimit_07, \" + \\\n",
    "    \"(Billed_08/Limit) as PctLimit_08, \" + \\\n",
    "    \"(Billed_09/Limit) as PctLimit_09 \" + \\\n",
    "    \"FROM __THIS__\"\n",
    "pctLimitTransformer = SQLTransformer(statement = pctLimitStatement)\n",
    "\n",
    "pctLimitTrendStatement = \"SELECT *, \" + \\\n",
    "    \"(pctLimit_09 - pctLimit_04) as PctLimitTrend_04, \" + \\\n",
    "    \"(pctLimit_09 - pctLimit_05) as PctLimitTrend_05, \" + \\\n",
    "    \"(pctLimit_09 - pctLimit_06) as PctLimitTrend_06, \" + \\\n",
    "    \"(pctLimit_09 - pctLimit_07) as PctLimitTrend_07, \" + \\\n",
    "    \"(pctLimit_09 - pctLimit_08) as PctLimitTrend_08 \" + \\\n",
    "    \"FROM __THIS__\"\n",
    "pctLimitTrendTransformer = SQLTransformer(statement = pctLimitTrendStatement)    \n",
    "\n",
    "statusTrendStatement = \"SELECT *, \" + \\\n",
    "    \"(Status_09 - Status_04) as StatusTrend_04, \" + \\\n",
    "    \"(Status_09 - Status_05) as StatusTrend_05, \" + \\\n",
    "    \"(Status_09 - Status_06) as StatusTrend_06, \" + \\\n",
    "    \"(Status_09 - Status_07) as StatusTrend_07, \" + \\\n",
    "    \"(Status_09 - Status_08) as StatusTrend_08 \" + \\\n",
    "    \"FROM __THIS__\"\n",
    "statusTrendTransformer = SQLTransformer(statement = statusTrendStatement)\n"
   ]
  },
  {
   "cell_type": "markdown",
   "metadata": {},
   "source": [
    "### Building a Feature Vector\n",
    "The classification models in `pyspark.ml.classification` take input in the form of a feature vector per observation. We  therefore use a VectorAssembler to build the feature vectors."
   ]
  },
  {
   "cell_type": "code",
   "execution_count": 7,
   "metadata": {},
   "outputs": [],
   "source": [
    "from pyspark.ml.feature import VectorAssembler\n",
    "\n",
    "inputColumns = [\n",
    "    \"BalTrend_04\", \"BalTrend_05\", \"BalTrend_06\", \"BalTrend_07\", \"BalTrend_08\", \\\n",
    "    \"PctLimit_04\", \"PctLimit_05\", \"PctLimit_06\", \"PctLimit_07\", \"PctLimit_08\", \"PctLimit_09\", \\\n",
    "    \"PctLimitTrend_04\", \"PctLimitTrend_05\", \"PctLimitTrend_06\", \"PctLimitTrend_07\", \"PctLimitTrend_08\", \\\n",
    "    \"StatusTrend_04\", \"StatusTrend_05\", \"StatusTrend_06\", \"StatusTrend_07\", \"StatusTrend_08\", \\\n",
    "    \"isFemale\", \"Education\", \"Marital\", \"Age\", \"Limit\", \"Billed_09\"\n",
    "]\n",
    "vectorizer = VectorAssembler(inputCols = inputColumns, outputCol = \"features_raw\")"
   ]
  },
  {
   "cell_type": "markdown",
   "metadata": {},
   "source": [
    "### Normalization\n",
    "If fields are scaled in units of different sizes, the fields with larger values may gain undue influence in a prediction model. We therefore normalize the values of the fields to the same scale with a StandardScaler."
   ]
  },
  {
   "cell_type": "code",
   "execution_count": 8,
   "metadata": {},
   "outputs": [],
   "source": [
    "from pyspark.ml.feature import StandardScaler\n",
    "\n",
    "scaler = StandardScaler(inputCol = \"features_raw\", outputCol = \"features\")"
   ]
  },
  {
   "cell_type": "markdown",
   "metadata": {},
   "source": [
    "### Bundling the Steps into a Pipeline\n"
   ]
  },
  {
   "cell_type": "code",
   "execution_count": 9,
   "metadata": {
    "scrolled": true
   },
   "outputs": [
    {
     "name": "stdout",
     "output_type": "stream",
     "text": [
      "root\n",
      " |-- Education_Level: double (nullable = true)\n",
      " |-- Marital_Status: double (nullable = true)\n",
      " |-- Limit: double (nullable = true)\n",
      " |-- Sex: double (nullable = true)\n",
      " |-- Age: double (nullable = true)\n",
      " |-- Status_09: integer (nullable = true)\n",
      " |-- Status_08: integer (nullable = true)\n",
      " |-- Status_07: integer (nullable = true)\n",
      " |-- Status_06: integer (nullable = true)\n",
      " |-- Status_05: integer (nullable = true)\n",
      " |-- Status_04: integer (nullable = true)\n",
      " |-- Billed_09: double (nullable = true)\n",
      " |-- Billed_08: double (nullable = true)\n",
      " |-- Billed_07: double (nullable = true)\n",
      " |-- Billed_06: double (nullable = true)\n",
      " |-- Billed_05: double (nullable = true)\n",
      " |-- Billed_04: double (nullable = true)\n",
      " |-- Paid_09: double (nullable = true)\n",
      " |-- Paid_08: double (nullable = true)\n",
      " |-- Paid_07: double (nullable = true)\n",
      " |-- Paid_06: double (nullable = true)\n",
      " |-- Paid_05: double (nullable = true)\n",
      " |-- Paid_04: double (nullable = true)\n",
      " |-- label: integer (nullable = true)\n",
      " |-- isFemale: double (nullable = true)\n",
      " |-- Education: double (nullable = true)\n",
      " |-- Marital: double (nullable = true)\n",
      " |-- BalTrend_04: double (nullable = true)\n",
      " |-- BalTrend_05: double (nullable = true)\n",
      " |-- BalTrend_06: double (nullable = true)\n",
      " |-- BalTrend_07: double (nullable = true)\n",
      " |-- BalTrend_08: double (nullable = true)\n",
      " |-- PctLimit_04: double (nullable = true)\n",
      " |-- PctLimit_05: double (nullable = true)\n",
      " |-- PctLimit_06: double (nullable = true)\n",
      " |-- PctLimit_07: double (nullable = true)\n",
      " |-- PctLimit_08: double (nullable = true)\n",
      " |-- PctLimit_09: double (nullable = true)\n",
      " |-- PctLimitTrend_04: double (nullable = true)\n",
      " |-- PctLimitTrend_05: double (nullable = true)\n",
      " |-- PctLimitTrend_06: double (nullable = true)\n",
      " |-- PctLimitTrend_07: double (nullable = true)\n",
      " |-- PctLimitTrend_08: double (nullable = true)\n",
      " |-- StatusTrend_04: integer (nullable = true)\n",
      " |-- StatusTrend_05: integer (nullable = true)\n",
      " |-- StatusTrend_06: integer (nullable = true)\n",
      " |-- StatusTrend_07: integer (nullable = true)\n",
      " |-- StatusTrend_08: integer (nullable = true)\n",
      " |-- features_raw: vector (nullable = true)\n",
      " |-- features: vector (nullable = true)\n",
      "\n"
     ]
    }
   ],
   "source": [
    "from pyspark.ml import Pipeline\n",
    "\n",
    "pipe_stages = [\n",
    "    sexBinarizer, \n",
    "    medianImputer, \n",
    "    balTrendTransformer,\n",
    "    pctLimitTransformer,\n",
    "    pctLimitTrendTransformer,\n",
    "    statusTrendTransformer,\n",
    "    vectorizer,\n",
    "    scaler\n",
    "]\n",
    "pipe = Pipeline(stages = pipe_stages)\n",
    "feature_df = pipe.fit(df).transform(df)\n",
    "feature_df.printSchema()"
   ]
  },
  {
   "cell_type": "code",
   "execution_count": 19,
   "metadata": {},
   "outputs": [
    {
     "name": "stdout",
     "output_type": "stream",
     "text": [
      "+-------+-----+\n",
      "|Marital|count|\n",
      "+-------+-----+\n",
      "|    1.0|13659|\n",
      "|    3.0|  323|\n",
      "|    2.0|16018|\n",
      "+-------+-----+\n",
      "\n",
      "+---------+-----+\n",
      "|Education|count|\n",
      "+---------+-----+\n",
      "|      1.0|10585|\n",
      "|      4.0|  123|\n",
      "|      3.0| 4917|\n",
      "|      2.0|14375|\n",
      "+---------+-----+\n",
      "\n",
      "+--------+-----+\n",
      "|isFemale|count|\n",
      "+--------+-----+\n",
      "|     0.0|11888|\n",
      "|     1.0|18112|\n",
      "+--------+-----+\n",
      "\n",
      "+---------------+--------------+--------+---+----+---------+---------+---------+---------+---------+---------+---------+---------+---------+---------+---------+---------+-------+-------+-------+-------+--------+-------+---------+--------+---------+-------+-----------+-----------+-----------+-----------+-----------+--------------------+--------------------+--------------------+--------------------+--------------------+--------------------+---------------------+----------------------+----------------------+----------------------+---------------------+--------------+--------------+--------------+--------------+--------------+------------------------------------------------------------+------------------------------------------------------------+\n",
      "|Education_Level|Marital_Status|   Limit|Sex| Age|Status_09|Status_08|Status_07|Status_06|Status_05|Status_04|Billed_09|Billed_08|Billed_07|Billed_06|Billed_05|Billed_04|Paid_09|Paid_08|Paid_07|Paid_06| Paid_05|Paid_04|Defaulted|isFemale|Education|Marital|BalTrend_04|BalTrend_05|BalTrend_06|BalTrend_07|BalTrend_08|         PctLimit_04|         PctLimit_05|         PctLimit_06|         PctLimit_07|         PctLimit_08|         PctLimit_09|     PctLimitTrend_04|      PctLimitTrend_05|      PctLimitTrend_06|      PctLimitTrend_07|     PctLimitTrend_08|StatusTrend_04|StatusTrend_05|StatusTrend_06|StatusTrend_07|StatusTrend_08|                                                features_raw|                                                    features|\n",
      "+---------------+--------------+--------+---+----+---------+---------+---------+---------+---------+---------+---------+---------+---------+---------+---------+---------+-------+-------+-------+-------+--------+-------+---------+--------+---------+-------+-----------+-----------+-----------+-----------+-----------+--------------------+--------------------+--------------------+--------------------+--------------------+--------------------+---------------------+----------------------+----------------------+----------------------+---------------------+--------------+--------------+--------------+--------------+--------------+------------------------------------------------------------+------------------------------------------------------------+\n",
      "|            2.0|           1.0| 20000.0|2.0|24.0|        2|        2|       -1|       -1|       -2|       -2|   3913.0|   3102.0|    689.0|      0.0|      0.0|      0.0|    0.0|  689.0|    0.0|    0.0|     0.0|    0.0|        1|     1.0|      2.0|    1.0|     3913.0|     3913.0|     3913.0|     3224.0|      811.0|                 0.0|                 0.0|                 0.0|             0.03445|              0.1551|             0.19565|              0.19565|               0.19565|               0.19565|   0.16119999999999998|              0.04055|             4|             4|             3|             3|             0|[3913.0,3913.0,3913.0,3224.0,811.0,0.0,0.0,0.0,0.03445,0....|[0.08908889499495884,0.09521431135251188,0.10419360896141...|\n",
      "|            2.0|           2.0|120000.0|2.0|26.0|       -1|        2|        0|        0|        0|        2|   2682.0|   1725.0|   2682.0|   3272.0|   3455.0|   3261.0|    0.0| 1000.0| 1000.0| 1000.0|     0.0| 2000.0|        1|     1.0|      2.0|    2.0|     -579.0|     -773.0|     -590.0|        0.0|      957.0|            0.027175|0.028791666666666667|0.027266666666666668|             0.02235|            0.014375|             0.02235|-0.004825000000000003|-0.0064416666666666685|  -0.00491666666666667|                   0.0| 0.007974999999999998|            -3|            -1|            -1|            -1|            -3|[-579.0,-773.0,-590.0,0.0,957.0,0.027175,0.02879166666666...|[-0.01318233329979074,-0.01880926723115044,-0.01571025537...|\n",
      "|            2.0|           2.0| 90000.0|2.0|34.0|        0|        0|        0|        0|        0|        0|  29239.0|  14027.0|  13559.0|  14331.0|  14948.0|  15549.0| 1518.0| 1500.0| 1000.0| 1000.0|  1000.0| 5000.0|        0|     1.0|      2.0|    2.0|    13690.0|    14291.0|    14908.0|    15680.0|    15212.0| 0.17276666666666668|  0.1660888888888889| 0.15923333333333334| 0.15065555555555554| 0.15585555555555555| 0.32487777777777777|  0.15211111111111109|   0.15878888888888887|   0.16564444444444443|   0.17422222222222222|   0.1690222222222222|             0|             0|             0|             0|             0|[13690.0,14291.0,14908.0,15680.0,15212.0,0.17276666666666...|[0.31168591169971543,0.34774028201859114,0.39696353754068...|\n",
      "|            2.0|           1.0| 50000.0|2.0|37.0|        0|        0|        0|        0|        0|        0|  46990.0|  48233.0|  49291.0|  28314.0|  28959.0|  29547.0| 2000.0| 2019.0| 1200.0| 1100.0|  1069.0| 1000.0|        0|     1.0|      2.0|    1.0|    17443.0|    18031.0|    18676.0|    -2301.0|    -1243.0|             0.59094|             0.57918|             0.56628|             0.98582|             0.96466|              0.9398|  0.34885999999999995|   0.36061999999999994|   0.37351999999999996|  -0.04602000000000006|-0.024859999999999993|             0|             0|             0|             0|             0|[17443.0,18031.0,18676.0,-2301.0,-1243.0,0.59094,0.57918,...|[0.39713202029058703,0.4387450160994484,0.497296151536749...|\n",
      "|            2.0|           1.0| 50000.0|1.0|57.0|       -1|        0|       -1|        0|        0|        0|   8617.0|   5670.0|  35835.0|  20940.0|  19146.0|  19131.0| 2000.0|36681.0|10000.0| 9000.0|   689.0|  679.0|        0|     0.0|      2.0|    1.0|   -10514.0|   -10529.0|   -12323.0|   -27218.0|     2947.0|             0.38262|             0.38292|              0.4188|              0.7167|              0.1134|             0.17234| -0.21028000000000002|              -0.21058|              -0.24646|              -0.54436|  0.05893999999999999|            -1|            -1|            -1|             0|            -1|[-10514.0,-10529.0,-12323.0,-27218.0,2947.0,0.38262,0.382...|[-0.2393766015785835,-0.2562002259725524,-0.3281313169515...|\n",
      "|            1.0|           2.0| 50000.0|1.0|37.0|        0|        0|        0|        0|        0|        0|  64400.0|  57069.0|  57608.0|  19394.0|  19619.0|  20024.0| 2500.0| 1815.0|  657.0| 1000.0|  1000.0|  800.0|        0|     0.0|      1.0|    2.0|    44376.0|    44781.0|    45006.0|     6792.0|     7331.0|             0.40048|             0.39238|             0.38788|             1.15216|             1.14138|               1.288|   0.8875200000000001|    0.8956200000000001|               0.90012|   0.13583999999999996|  0.14661999999999997|             0|             0|             0|             0|             0|[44376.0,44781.0,45006.0,6792.0,7331.0,0.40048,0.39238,0....|[1.010326809173599,1.0896478601269701,1.1983995821408726,...|\n",
      "|            1.0|           2.0|500000.0|1.0|29.0|        0|        0|        0|        0|        0|        0| 367965.0| 412023.0| 445007.0| 542653.0| 483003.0| 473944.0|55000.0|40000.0|38000.0|20239.0| 13750.0|13770.0|        0|     0.0|      1.0|    2.0|  -105979.0|  -115038.0|  -174688.0|   -77042.0|   -44058.0|            0.947888|            0.966006|            1.085306|            0.890014|            0.824046|             0.73593| -0.21195799999999998|  -0.23007600000000006|  -0.34937600000000013|             -0.154084| -0.08811599999999997|             0|             0|             0|             0|             0|[-105979.0,-115038.0,-174688.0,-77042.0,-44058.0,0.947888...|[-2.4128678769922676,-2.7991985559341326,-4.6515137138387...|\n",
      "|            2.0|           2.0|100000.0|2.0|23.0|        0|       -1|       -1|        0|        0|       -1|  11876.0|    380.0|    601.0|    221.0|   -159.0|    567.0|  380.0|  601.0|    0.0|  581.0|  1687.0| 1542.0|        0|     1.0|      2.0|    2.0|    11309.0|    12035.0|    11655.0|    11275.0|    11496.0|             0.00567|            -0.00159|             0.00221|             0.00601|              0.0038|             0.11876|  0.11309000000000001|               0.12035|               0.11655|               0.11275|              0.11496|             1|             0|             0|             1|             1|[11309.0,12035.0,11655.0,11275.0,11496.0,0.00567,-0.00159...|[0.25747669652389205,0.2928454477708869,0.310344112559478...|\n",
      "|            3.0|           1.0|140000.0|2.0|28.0|        0|        0|        2|        0|        0|        0|  11285.0|  14096.0|  12108.0|  12211.0|  11793.0|   3719.0| 3329.0|    0.0|  432.0| 1000.0|  1000.0| 1000.0|        0|     1.0|      3.0|    1.0|     7566.0|     -508.0|     -926.0|     -823.0|    -2811.0|0.026564285714285714| 0.08423571428571429| 0.08722142857142857| 0.08648571428571429| 0.10068571428571428| 0.08060714285714286|  0.05404285714285715|-0.0036285714285714255|-0.0066142857142857114|-0.0058785714285714274|-0.020078571428571418|             0|             0|             0|            -2|             0|[7566.0,-508.0,-926.0,-823.0,-2811.0,0.026564285714285714...|[0.17225826208327588,-0.012361070832373124,-0.02465711267...|\n",
      "|            3.0|           2.0| 20000.0|1.0|35.0|       -2|       -2|       -2|       -2|       -1|       -1|      0.0|      0.0|      0.0|      0.0|  13007.0|  13912.0|    0.0|    0.0|    0.0|13007.0|  1122.0|    0.0|        0|     0.0|      3.0|    2.0|   -13912.0|   -13007.0|        0.0|        0.0|        0.0|              0.6956|             0.65035|                 0.0|                 0.0|                 0.0|                 0.0|              -0.6956|              -0.65035|                   0.0|                   0.0|                  0.0|            -1|            -1|             0|             0|             0|(27,[0,1,5,6,11,12,16,17,22,23,24,25],[-13912.0,-13007.0,...|(27,[0,1,5,6,11,12,16,17,22,23,24,25],[-0.316740277835386...|\n",
      "|            3.0|           2.0|200000.0|2.0|34.0|        0|        0|        2|        0|        0|       -1|  11073.0|   9787.0|   5535.0|   2513.0|   1828.0|   3731.0| 2306.0|   12.0|   50.0|  300.0|  3738.0|   66.0|        0|     1.0|      3.0|    2.0|     7342.0|     9245.0|     8560.0|     5538.0|     1286.0|            0.018655|             0.00914|            0.012565|            0.027675|            0.048935|            0.055365|  0.03670999999999999|  0.046224999999999995|                0.0428|  0.027689999999999996| 0.006429999999999998|             1|             0|             0|            -2|             0|[7342.0,9245.0,8560.0,5538.0,1286.0,0.018655,0.00914,0.01...|[0.16715836111755375,0.22495688945923134,0.22793184071292...|\n",
      "|            1.0|           2.0|260000.0|2.0|51.0|       -1|       -1|       -1|       -1|       -1|        2|  12261.0|  21670.0|   9966.0|   8517.0|  22287.0|  13668.0|21818.0| 9966.0| 8583.0|22301.0|     0.0| 3640.0|        0|     1.0|      1.0|    2.0|    -1407.0|   -10026.0|     3744.0|     2295.0|    -9409.0| 0.05256923076923077| 0.08571923076923077| 0.03275769230769231| 0.03833076923076923| 0.08334615384615385| 0.04715769230769231|-0.005411538461538461|  -0.03856153846153846|  0.014400000000000003|   0.00882692307692308| -0.03618846153846154|            -3|             0|             0|             0|             0|[-1407.0,-10026.0,3744.0,2295.0,-9409.0,0.052569230769230...|[-0.03203375294094227,-0.24396081922317506,0.099693552760...|\n",
      "|            2.0|           2.0|630000.0|2.0|41.0|       -1|        0|       -1|       -1|       -1|       -1|  12137.0|   6500.0|   6500.0|   6500.0|   6500.0|   2870.0| 1000.0| 6500.0| 6500.0| 6500.0|  2870.0|    0.0|        0|     1.0|      2.0|    2.0|     9267.0|     5637.0|     5637.0|     5637.0|     5637.0|0.004555555555555556|0.010317460317460317|0.010317460317460317|0.010317460317460317|0.010317460317460317|0.019265079365079363| 0.014709523809523808|  0.008947619047619046|  0.008947619047619046|  0.008947619047619046| 0.008947619047619046|             0|             0|             0|             0|            -1|[9267.0,5637.0,5637.0,5637.0,5637.0,0.004555555555555556,...|[0.2109856350417285,0.13716408716946318,0.150099507721817...|\n",
      "|            2.0|           2.0| 70000.0|1.0|30.0|        1|        2|        2|        0|        0|        2|  65802.0|  67369.0|  65701.0|  66782.0|  36137.0|  36894.0| 3200.0|    0.0| 3000.0| 3000.0|  1500.0|    0.0|        1|     0.0|      2.0|    2.0|    28908.0|    29665.0|     -980.0|      101.0|    -1567.0|  0.5270571428571429|  0.5162428571428571|  0.9540285714285714|  0.9385857142857142|  0.9624142857142857|  0.9400285714285714|  0.41297142857142854|    0.4237857142857143| -0.014000000000000012| 0.0014428571428571901| -0.02238571428571423|            -1|             1|             1|            -1|            -1|[28908.0,29665.0,-980.0,101.0,-1567.0,0.5270571428571429,...|[0.6581604335584641,0.7218330044140723,-0.026095000455451...|\n",
      "|            1.0|           2.0|250000.0|1.0|29.0|        0|        0|        0|        0|        0|        0|  70887.0|  67060.0|  63561.0|  59696.0|  56875.0|  55512.0| 3000.0| 3000.0| 3000.0| 3000.0|  3000.0| 3000.0|        0|     0.0|      1.0|    2.0|    15375.0|    14012.0|    11191.0|     7326.0|     3827.0|            0.222048|              0.2275|            0.238784|            0.254244|             0.26824|            0.283548|  0.06150000000000003|  0.056048000000000014|  0.044764000000000026|  0.029303999999999997| 0.015308000000000044|             0|             0|             0|             0|             0|[15375.0,14012.0,11191.0,7326.0,3827.0,0.222048,0.2275,0....|[0.3500490060177593,0.3409514261874256,0.2979889286703663...|\n",
      "|            3.0|           3.0| 50000.0|2.0|23.0|        1|        2|        0|        0|        0|        0|  50614.0|  29173.0|  28116.0|  28771.0|  29531.0|  30211.0|    0.0| 1500.0| 1100.0| 1200.0|  1300.0| 1100.0|        0|     1.0|      3.0|    3.0|    20403.0|    21083.0|    21843.0|    22498.0|    21441.0|             0.60422|             0.59062|             0.57542|             0.56232|             0.58346|             1.01228|   0.4080600000000001|   0.42166000000000003|               0.43686|               0.44996|   0.4288200000000001|             1|             1|             1|             1|            -1|[20403.0,21083.0,21843.0,22498.0,21441.0,0.60422,0.59062,...|[0.46452356876620116,0.5130087723600838,0.581625607090234...|\n",
      "|            1.0|           2.0| 20000.0|1.0|24.0|        0|        0|        2|        2|        2|        2|  15376.0|  18010.0|  17428.0|  18338.0|  17905.0|  19104.0| 3200.0|    0.0| 1500.0|    0.0|  1650.0|    0.0|        1|     0.0|      1.0|    2.0|    -3728.0|    -2529.0|    -2962.0|    -2052.0|    -2634.0|              0.9552|             0.89525|              0.9169|              0.8714|              0.9005|              0.7688|              -0.1864|  -0.12644999999999995|               -0.1481|  -0.10259999999999991| -0.13169999999999993|            -2|            -2|            -2|            -2|             0|[-3728.0,-2529.0,-2962.0,-2052.0,-2634.0,0.9552,0.89525,0...|[-0.08487692321523295,-0.061537693179274856,-0.0788708074...|\n",
      "|            1.0|           1.0|320000.0|1.0|49.0|        0|        0|        0|       -1|       -1|       -1| 253286.0| 246536.0| 194663.0|  70074.0|   5856.0| 195599.0|10358.0|10000.0|75940.0|20000.0|195599.0|50000.0|        0|     0.0|      1.0|    1.0|    57687.0|   247430.0|   183212.0|    58623.0|     6750.0|         0.611246875|              0.0183|          0.21898125|         0.608321875|            0.770425|          0.79151875|  0.18027187500000008|    0.7732187500000001|             0.5725375|   0.18319687500000004| 0.021093750000000022|             1|             1|             1|             0|             0|[57687.0,247430.0,183212.0,58623.0,6750.0,0.611246875,0.0...|[1.313383870578633,6.020668811130083,4.8784869626981635,1...|\n",
      "|            1.0|           1.0|360000.0|2.0|49.0|        1|       -2|       -2|       -2|       -2|       -2|      0.0|      0.0|      0.0|      0.0|      0.0|      0.0|    0.0|    0.0|    0.0|    0.0|     0.0|    0.0|        0|     1.0|      1.0|    1.0|        0.0|        0.0|        0.0|        0.0|        0.0|                 0.0|                 0.0|                 0.0|                 0.0|                 0.0|                 0.0|                  0.0|                   0.0|                   0.0|                   0.0|                  0.0|             3|             3|             3|             3|             3|(27,[16,17,18,19,20,21,22,23,24,25],[3.0,3.0,3.0,3.0,3.0,...|(27,[16,17,18,19,20,21,22,23,24,25],[2.5735987249773618,2...|\n",
      "|            1.0|           2.0|180000.0|2.0|29.0|        1|       -2|       -2|       -2|       -2|       -2|      0.0|      0.0|      0.0|      0.0|      0.0|      0.0|    0.0|    0.0|    0.0|    0.0|     0.0|    0.0|        0|     1.0|      1.0|    2.0|        0.0|        0.0|        0.0|        0.0|        0.0|                 0.0|                 0.0|                 0.0|                 0.0|                 0.0|                 0.0|                  0.0|                   0.0|                   0.0|                   0.0|                  0.0|             3|             3|             3|             3|             3|(27,[16,17,18,19,20,21,22,23,24,25],[3.0,3.0,3.0,3.0,3.0,...|(27,[16,17,18,19,20,21,22,23,24,25],[2.5735987249773618,2...|\n",
      "+---------------+--------------+--------+---+----+---------+---------+---------+---------+---------+---------+---------+---------+---------+---------+---------+---------+-------+-------+-------+-------+--------+-------+---------+--------+---------+-------+-----------+-----------+-----------+-----------+-----------+--------------------+--------------------+--------------------+--------------------+--------------------+--------------------+---------------------+----------------------+----------------------+----------------------+---------------------+--------------+--------------+--------------+--------------+--------------+------------------------------------------------------------+------------------------------------------------------------+\n",
      "only showing top 20 rows\n",
      "\n"
     ]
    }
   ],
   "source": [
    "# verify that transformers worked as expected\n",
    "feature_df.groupby('Marital').count().show()\n",
    "feature_df.groupby('Education').count().show()\n",
    "feature_df.groupby('isFemale').count().show()\n",
    "feature_df.show(n = 20, truncate = 60)"
   ]
  },
  {
   "cell_type": "code",
   "execution_count": 10,
   "metadata": {},
   "outputs": [],
   "source": [
    "feature_df = feature_df.select('features', 'label')\n"
   ]
  },
  {
   "cell_type": "markdown",
   "metadata": {},
   "source": [
    "## Model Selection\n",
    "Now we set up a competition between various classification models to see which one achieves the best results. We follow these steps:\n",
    "1. Split the data 80/20 into training and test sets.\n",
    "2. For each model...\n",
    "    - Tune the hyperparameters using 5-fold cross-validation on the training set.\n",
    "    - Predict the test set\n",
    "3. Compare the predictions "
   ]
  },
  {
   "cell_type": "code",
   "execution_count": 11,
   "metadata": {},
   "outputs": [
    {
     "name": "stdout",
     "output_type": "stream",
     "text": [
      "23980 6020\n",
      "root\n",
      " |-- features: vector (nullable = true)\n",
      " |-- label: integer (nullable = true)\n",
      "\n"
     ]
    }
   ],
   "source": [
    "train_df, test_df = feature_df.randomSplit([0.8, 0.2], seed = 304)\n",
    "print(train_df.count(), test_df.count())\n",
    "train_df.printSchema()"
   ]
  },
  {
   "cell_type": "code",
   "execution_count": 12,
   "metadata": {},
   "outputs": [],
   "source": [
    "from pyspark.ml.classification import LogisticRegression, LinearSVC, GBTClassifier, RandomForestClassifier\n",
    "from pyspark.ml.evaluation import BinaryClassificationEvaluator\n",
    "from pyspark.ml.tuning import CrossValidator, ParamGridBuilder\n",
    "\n",
    "lr = LogisticRegression(featuresCol = 'features', labelCol = 'label', family = 'binomial')\n",
    "lrParamGrid = ParamGridBuilder() \\\n",
    "    .addGrid(lr.regParam, [0.01, 0.05, 0.25]) \\\n",
    "    .addGrid(lr.elasticNetParam, [0.0, 0.5, 1.0]) \\\n",
    "    .build()\n",
    "cvLR = CrossValidator(estimator = lr,\n",
    "                     estimatorParamMaps = lrParamGrid,\n",
    "                     evaluator = BinaryClassificationEvaluator(),\n",
    "                     numFolds = 5,\n",
    "                     parallelism = 4)\n",
    "lrModel = cvLR.fit(train_df)"
   ]
  },
  {
   "cell_type": "code",
   "execution_count": 13,
   "metadata": {},
   "outputs": [],
   "source": [
    "svm = LinearSVC(featuresCol = 'features', labelCol = 'label')\n",
    "svmParamGrid = ParamGridBuilder().addGrid(svm.regParam, [0.005, 0.02, 0.1]).build()\n",
    "cvSVM = CrossValidator(estimator = svm,\n",
    "                       estimatorParamMaps = svmParamGrid,\n",
    "                       evaluator = BinaryClassificationEvaluator(),\n",
    "                       numFolds = 5,\n",
    "                       parallelism = 4)\n",
    "svmModel = cvSVM.fit(train_df)"
   ]
  },
  {
   "cell_type": "code",
   "execution_count": 14,
   "metadata": {},
   "outputs": [],
   "source": [
    "gbt = GBTClassifier(featuresCol = 'features', \n",
    "                    labelCol = 'label',\n",
    "                    seed = 304,\n",
    "                    maxMemoryInMB = 512)\n",
    "gbtParamGrid = ParamGridBuilder() \\\n",
    "    .addGrid(gbt.maxDepth, [4,5,6]) \\\n",
    "    .addGrid(gbt.stepSize, [0.03,0.1,0.3]) \\\n",
    "    .build()\n",
    "cvGBT = CrossValidator(estimator = gbt,\n",
    "                       estimatorParamMaps = gbtParamGrid,\n",
    "                       evaluator = BinaryClassificationEvaluator(),\n",
    "                       numFolds = 5,\n",
    "                       parallelism = 4)\n",
    "gbtModel = cvGBT.fit(train_df)"
   ]
  },
  {
   "cell_type": "code",
   "execution_count": 15,
   "metadata": {},
   "outputs": [],
   "source": [
    "rf = RandomForestClassifier(featuresCol = 'features', \n",
    "                            labelCol = 'label',\n",
    "                            seed = 304,\n",
    "                            maxMemoryInMB = 512)\n",
    "rfParamGrid = ParamGridBuilder() \\\n",
    "    .addGrid(rf.maxDepth, [4,5,6]) \\\n",
    "    .addGrid(rf.numTrees, [15,50,100]) \\\n",
    "    .build()\n",
    "rfGBT = CrossValidator(estimator = rf,\n",
    "                       estimatorParamMaps = rfParamGrid,\n",
    "                       evaluator = BinaryClassificationEvaluator(),\n",
    "                       numFolds = 5,\n",
    "                       parallelism = 4)\n",
    "rfModel = rfGBT.fit(train_df)"
   ]
  },
  {
   "cell_type": "markdown",
   "metadata": {},
   "source": [
    "### Model Comparison\n",
    "This notebook uses two metrics for model selection:\n",
    "1. Accuracy\n",
    "2. Area under ROC - which measures the ability to optimize the precision vs. recall trade-off by changing the prediction threshold."
   ]
  },
  {
   "cell_type": "code",
   "execution_count": 20,
   "metadata": {},
   "outputs": [],
   "source": [
    "test_df.cache()\n",
    "lrPredictions = lrModel.transform(test_df)\n",
    "svmPredictions = svmModel.transform(test_df)\n",
    "gbtPredictions = gbtModel.transform(test_df)\n",
    "rfPredictions = rfModel.transform(test_df)"
   ]
  },
  {
   "cell_type": "code",
   "execution_count": 24,
   "metadata": {},
   "outputs": [],
   "source": [
    "from pyspark.ml.evaluation import BinaryClassificationEvaluator\n",
    "\n",
    "evaluator = BinaryClassificationEvaluator()\n",
    "def getAccuracy(df):\n",
    "    return float(df.filter(df.label == df.prediction).count())/float(df.count())\n",
    "\n",
    "auc_str, acc_str = 'AUC', 'Accuracy'\n",
    "def getEvalDict(auc, accuracy):\n",
    "    return {auc_str: auc, acc_str: accuracy}\n",
    "\n",
    "lrAUC = evaluator.evaluate(lrPredictions)\n",
    "lrAccuracy = getAccuracy(lrPredictions)\n",
    "dictLR = getEvalDict(lrAUC, lrAccuracy)\n",
    "\n",
    "svmAUC = evaluator.evaluate(svmPredictions)\n",
    "svmAccuracy = getAccuracy(svmPredictions)\n",
    "dictSVM = getEvalDict(svmAUC, svmAccuracy)\n",
    "\n",
    "gbtAUC = evaluator.evaluate(gbtPredictions)\n",
    "gbtAccuracy = getAccuracy(gbtPredictions)\n",
    "dictGBT = getEvalDict(gbtAUC, gbtAccuracy)\n",
    "\n",
    "rfAUC = evaluator.evaluate(rfPredictions)\n",
    "rfAccuracy = getAccuracy(rfPredictions)\n",
    "dictAUC = getEvalDict(rfAUC, rfAccuracy)"
   ]
  },
  {
   "cell_type": "code",
   "execution_count": 33,
   "metadata": {},
   "outputs": [
    {
     "name": "stdout",
     "output_type": "stream",
     "text": [
      "    |  AUC  | Accuracy\n",
      "======================\n",
      "LR  | 0.666 | 0.781\n",
      "SVM | 0.613 | 0.779\n",
      "GBT | 0.756 | 0.806\n",
      "RF  | 0.753 | 0.801\n"
     ]
    },
    {
     "data": {
      "image/png": "[encoded data removed]",
      "text/plain": [
       "<Figure size 432x288 with 1 Axes>"
      ]
     },
     "metadata": {},
     "output_type": "display_data"
    }
   ],
   "source": [
    "import pandas as pd\n",
    "%matplotlib inline\n",
    "\n",
    "rowIndex = ['Logistic Regression', 'SVM', 'Gradient Boost', 'Random Forest']\n",
    "df_results = pd.DataFrame([dictLR, dictSVM, dictGBT, dictAUC], index = rowIndex)\n",
    "\n",
    "df_results.plot(kind = 'bar')\n",
    "print('    |  AUC  | Accuracy')\n",
    "print('======================')\n",
    "print('LR  |', \"%0.3f\" % lrAUC, \"|\", \"%0.3f\" % lrAccuracy)\n",
    "print('SVM |', \"%0.3f\" % svmAUC, \"|\", \"%0.3f\" % svmAccuracy)\n",
    "print('GBT |', \"%0.3f\" % gbtAUC, \"|\", \"%0.3f\" % gbtAccuracy)\n",
    "print('RF  |', \"%0.3f\" % rfAUC, \"|\", \"%0.3f\" % rfAccuracy)\n"
   ]
  },
  {
   "cell_type": "markdown",
   "metadata": {},
   "source": [
    "## Conclusion\n",
    "The gradient boost classifier, a tree ensemble method, finished barely ahead of the random forest classifier. These two classifiers finished somewhat ahead of logistic regression and linear support vector machine classifiers in prediction accuracy, and far ahead in the area under ROC curve metric.\n",
    "\n",
    "The results in this study almost as good as the results reported by the authors of [the paper that accompanied the data set](https://github.com/wangzongyan/Default-of-credit-card-clients-Data-Project/blob/master/The%20comparisons%20of%20data%20mining%20techniques%20for%20the%20predictive%20accuracy%20of%20probability%20of%20default%20of%20credit%20card%20clients.pdf). Comparisons with the original paper are uncertain, however, because the published paper does not describe any feature engineering or hyperparameter tuning by the authors."
   ]
  },
  {
   "cell_type": "markdown",
   "metadata": {},
   "source": [
    "### Future Improvements\n",
    "Given more time, I would have pursued the following methods to improve the analysis:\n",
    "* **Finer Hyperparameter Tuning.** The range of parameters in the parameter grids were quite wide. A finer-grained search in the vicinity of each model's best hyper-parameters, which were selected in cross-validation, would yield better predictive power.\n",
    "* **More models.** \n",
    "    * Model Stack - Three methods with dissimilar errors could take a majority vote.\n",
    "    * Feed-Forward Neural Network - This architecture is capable of engineering features and optimizing weights by back-propagation of training loss.\n",
    "    * Recurrent Neural Network - A RNN might be able to detect sequential patterns with predictive power. \n"
   ]
  },
  {
   "cell_type": "markdown",
   "metadata": {},
   "source": [
    "### API Comparisons\n",
    "The `pyspark.sql.DataFrame` and `pyspark.ml` APIs are quite similar to the Pandas and scikit-learn APIs, respectively. However, the standard Python libraries retain several advantages over the pyspark offerings:\n",
    "1. **Greater maturity** - I occasionally found myself troubleshooting, reading source code, and tracking down bug reports to fix or work around what appeared to be pyspark defects. \n",
    "2. **Greater functionality** - The standard Python libraries often more classifiers and functionality than the pyspark offering.\n",
    "3. **Better documentation** - The widespread adoption of the standard Python libraries has led to more comprehensive documentation.\n",
    "\n",
    "In a situation where analysis can be performed on a single compute node, I would definitely choose numpy, pandas, and scikit-learn. However, the pyspark libraries are certainly good enough to turn big data into actionable insight, and can easily be justified for big data scenarios."
   ]
  },
  {
   "cell_type": "code",
   "execution_count": null,
   "metadata": {},
   "outputs": [],
   "source": []
  }
 ],
 "metadata": {
  "kernelspec": {
   "display_name": "Python 3",
   "language": "python",
   "name": "python3"
  },
  "language_info": {
   "codemirror_mode": {
    "name": "ipython",
    "version": 3
   },
   "file_extension": ".py",
   "mimetype": "text/x-python",
   "name": "python",
   "nbconvert_exporter": "python",
   "pygments_lexer": "ipython3",
   "version": "3.6.5"
  }
 },
 "nbformat": 4,
 "nbformat_minor": 2
}
